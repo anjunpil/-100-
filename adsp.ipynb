{
 "cells": [
  {
   "cell_type": "code",
   "execution_count": 36,
   "metadata": {},
   "outputs": [
    {
     "data": {
      "text/html": [
       "<table>\n",
       "<thead><tr><th scope=col></th><th scope=col></th><th scope=col>r1</th></tr></thead>\n",
       "<tbody>\n",
       "\t<tr><td>1</td><td>4</td><td>7</td></tr>\n",
       "\t<tr><td>2</td><td>5</td><td>8</td></tr>\n",
       "\t<tr><td>3</td><td>6</td><td>9</td></tr>\n",
       "</tbody>\n",
       "</table>\n"
      ],
      "text/latex": [
       "\\begin{tabular}{lll}\n",
       "  &  & r1\\\\\n",
       "\\hline\n",
       "\t 1 & 4 & 7\\\\\n",
       "\t 2 & 5 & 8\\\\\n",
       "\t 3 & 6 & 9\\\\\n",
       "\\end{tabular}\n"
      ],
      "text/markdown": [
       "\n",
       "|  |  | r1 |\n",
       "|---|---|---|\n",
       "| 1 | 4 | 7 |\n",
       "| 2 | 5 | 8 |\n",
       "| 3 | 6 | 9 |\n",
       "\n"
      ],
      "text/plain": [
       "         r1\n",
       "[1,] 1 4 7 \n",
       "[2,] 2 5 8 \n",
       "[3,] 3 6 9 "
      ]
     },
     "metadata": {},
     "output_type": "display_data"
    },
    {
     "data": {
      "text/html": [
       "<table>\n",
       "<thead><tr><th scope=col>r.1</th><th scope=col>r.2</th><th scope=col>r.3</th></tr></thead>\n",
       "<tbody>\n",
       "\t<tr><td>1</td><td>4</td><td>7</td></tr>\n",
       "\t<tr><td>2</td><td>5</td><td>8</td></tr>\n",
       "\t<tr><td>3</td><td>6</td><td>9</td></tr>\n",
       "</tbody>\n",
       "</table>\n"
      ],
      "text/latex": [
       "\\begin{tabular}{r|lll}\n",
       " r.1 & r.2 & r.3\\\\\n",
       "\\hline\n",
       "\t 1 & 4 & 7\\\\\n",
       "\t 2 & 5 & 8\\\\\n",
       "\t 3 & 6 & 9\\\\\n",
       "\\end{tabular}\n"
      ],
      "text/markdown": [
       "\n",
       "| r.1 | r.2 | r.3 |\n",
       "|---|---|---|\n",
       "| 1 | 4 | 7 |\n",
       "| 2 | 5 | 8 |\n",
       "| 3 | 6 | 9 |\n",
       "\n"
      ],
      "text/plain": [
       "  r.1 r.2 r.3\n",
       "1 1   4   7  \n",
       "2 2   5   8  \n",
       "3 3   6   9  "
      ]
     },
     "metadata": {},
     "output_type": "display_data"
    },
    {
     "data": {
      "text/html": [
       "<ol class=list-inline>\n",
       "\t<li>1</li>\n",
       "\t<li>2</li>\n",
       "\t<li>3</li>\n",
       "\t<li>4</li>\n",
       "\t<li>5</li>\n",
       "\t<li>6</li>\n",
       "\t<li>7</li>\n",
       "\t<li>8</li>\n",
       "\t<li>9</li>\n",
       "\t<li>10</li>\n",
       "\t<li>11</li>\n",
       "\t<li>12</li>\n",
       "</ol>\n"
      ],
      "text/latex": [
       "\\begin{enumerate*}\n",
       "\\item 1\n",
       "\\item 2\n",
       "\\item 3\n",
       "\\item 4\n",
       "\\item 5\n",
       "\\item 6\n",
       "\\item 7\n",
       "\\item 8\n",
       "\\item 9\n",
       "\\item 10\n",
       "\\item 11\n",
       "\\item 12\n",
       "\\end{enumerate*}\n"
      ],
      "text/markdown": [
       "1. 1\n",
       "2. 2\n",
       "3. 3\n",
       "4. 4\n",
       "5. 5\n",
       "6. 6\n",
       "7. 7\n",
       "8. 8\n",
       "9. 9\n",
       "10. 10\n",
       "11. 11\n",
       "12. 12\n",
       "\n",
       "\n"
      ],
      "text/plain": [
       ", , 1\n",
       "\n",
       "     [,1] [,2]\n",
       "[1,]    1    3\n",
       "[2,]    2    4\n",
       "\n",
       ", , 2\n",
       "\n",
       "     [,1] [,2]\n",
       "[1,]    5    7\n",
       "[2,]    6    8\n",
       "\n",
       ", , 3\n",
       "\n",
       "     [,1] [,2]\n",
       "[1,]    9   11\n",
       "[2,]   10   12\n"
      ]
     },
     "metadata": {},
     "output_type": "display_data"
    }
   ],
   "source": [
    "x=c(1,10,24,'사과')\n",
    "\n",
    "m<-matrix(c(1,2,3,4,5,6),ncol=2,dimnames=NULL)\n",
    "r1<-c(7,8,9)\n",
    "cbind(m,r1)\n",
    "\n",
    "D<-data.frame(r=m,r.3=r1)\n",
    "D \n",
    "array(1:12,dim=c(2,2,3))\n",
    "x<-list(name='junpil',age='30')"
   ]
  },
  {
   "cell_type": "code",
   "execution_count": 69,
   "metadata": {},
   "outputs": [
    {
     "data": {
      "text/html": [
       "<ol class=list-inline>\n",
       "\t<li>1</li>\n",
       "\t<li>6.5</li>\n",
       "\t<li>16.5</li>\n",
       "\t<li>31</li>\n",
       "\t<li>50</li>\n",
       "</ol>\n"
      ],
      "text/latex": [
       "\\begin{enumerate*}\n",
       "\\item 1\n",
       "\\item 6.5\n",
       "\\item 16.5\n",
       "\\item 31\n",
       "\\item 50\n",
       "\\end{enumerate*}\n"
      ],
      "text/markdown": [
       "1. 1\n",
       "2. 6.5\n",
       "3. 16.5\n",
       "4. 31\n",
       "5. 50\n",
       "\n",
       "\n"
      ],
      "text/plain": [
       "[1]  1.0  6.5 16.5 31.0 50.0"
      ]
     },
     "metadata": {},
     "output_type": "display_data"
    },
    {
     "data": {
      "text/html": [
       "<table>\n",
       "<tbody>\n",
       "\t<tr><td>-1 </td><td> -2</td><td> -3</td><td> -4</td><td> -5</td></tr>\n",
       "\t<tr><td>-2 </td><td> -4</td><td> -6</td><td> -8</td><td>-10</td></tr>\n",
       "\t<tr><td>-3 </td><td> -6</td><td> -9</td><td>-12</td><td>-15</td></tr>\n",
       "\t<tr><td>-4 </td><td> -8</td><td>-12</td><td>-16</td><td>-20</td></tr>\n",
       "\t<tr><td>-5 </td><td>-10</td><td>-15</td><td>-20</td><td>-25</td></tr>\n",
       "</tbody>\n",
       "</table>\n"
      ],
      "text/latex": [
       "\\begin{tabular}{lllll}\n",
       "\t -1  &  -2 &  -3 &  -4 &  -5\\\\\n",
       "\t -2  &  -4 &  -6 &  -8 & -10\\\\\n",
       "\t -3  &  -6 &  -9 & -12 & -15\\\\\n",
       "\t -4  &  -8 & -12 & -16 & -20\\\\\n",
       "\t -5  & -10 & -15 & -20 & -25\\\\\n",
       "\\end{tabular}\n"
      ],
      "text/markdown": [
       "\n",
       "| -1  |  -2 |  -3 |  -4 |  -5 |\n",
       "| -2  |  -4 |  -6 |  -8 | -10 |\n",
       "| -3  |  -6 |  -9 | -12 | -15 |\n",
       "| -4  |  -8 | -12 | -16 | -20 |\n",
       "| -5  | -10 | -15 | -20 | -25 |\n",
       "\n"
      ],
      "text/plain": [
       "     [,1] [,2] [,3] [,4] [,5]\n",
       "[1,] -1    -2   -3   -4   -5 \n",
       "[2,] -2    -4   -6   -8  -10 \n",
       "[3,] -3    -6   -9  -12  -15 \n",
       "[4,] -4    -8  -12  -16  -20 \n",
       "[5,] -5   -10  -15  -20  -25 "
      ]
     },
     "metadata": {},
     "output_type": "display_data"
    },
    {
     "data": {
      "text/html": [
       "3"
      ],
      "text/latex": [
       "3"
      ],
      "text/markdown": [
       "3"
      ],
      "text/plain": [
       "[1] 3"
      ]
     },
     "metadata": {},
     "output_type": "display_data"
    },
    {
     "data": {
      "text/html": [
       "2.5"
      ],
      "text/latex": [
       "2.5"
      ],
      "text/markdown": [
       "2.5"
      ],
      "text/plain": [
       "[1] 2.5"
      ]
     },
     "metadata": {},
     "output_type": "display_data"
    },
    {
     "data": {
      "text/html": [
       "1.58113883008419"
      ],
      "text/latex": [
       "1.58113883008419"
      ],
      "text/markdown": [
       "1.58113883008419"
      ],
      "text/plain": [
       "[1] 1.581139"
      ]
     },
     "metadata": {},
     "output_type": "display_data"
    },
    {
     "data": {
      "text/html": [
       "15"
      ],
      "text/latex": [
       "15"
      ],
      "text/markdown": [
       "15"
      ],
      "text/plain": [
       "[1] 15"
      ]
     },
     "metadata": {},
     "output_type": "display_data"
    },
    {
     "data": {
      "text/html": [
       "3"
      ],
      "text/latex": [
       "3"
      ],
      "text/markdown": [
       "3"
      ],
      "text/plain": [
       "[1] 3"
      ]
     },
     "metadata": {},
     "output_type": "display_data"
    },
    {
     "data": {
      "text/plain": [
       "   Min. 1st Qu.  Median    Mean 3rd Qu.    Max. \n",
       "      1       2       3       3       4       5 "
      ]
     },
     "metadata": {},
     "output_type": "display_data"
    },
    {
     "data": {
      "text/html": [
       "2"
      ],
      "text/latex": [
       "2"
      ],
      "text/markdown": [
       "2"
      ],
      "text/plain": [
       "[1] 2"
      ]
     },
     "metadata": {},
     "output_type": "display_data"
    }
   ],
   "source": [
    "a<-rep(1:5,1)\n",
    "b<-seq(1,10,length = 5)\n",
    "a*b\n",
    "-a%*%t(a) \n",
    "\n",
    "mean(a) #평균\n",
    "var(a)  #분산\n",
    "sd(a)   #표준편차\n",
    "sum(a)  #합계\n",
    "median(a)#중앙값\n",
    "summary(a)#요악\n"
   ]
  },
  {
   "cell_type": "code",
   "execution_count": 76,
   "metadata": {},
   "outputs": [
    {
     "ename": "ERROR",
     "evalue": "Error in parse(text = x, srcfile = src): <text>:5:2: 예기치 않은 '}'입니다\n4: + {a[i]=i*i\n5: +}\n    ^\n",
     "output_type": "error",
     "traceback": [
      "Error in parse(text = x, srcfile = src): <text>:5:2: 예기치 않은 '}'입니다\n4: + {a[i]=i*i\n5: +}\n    ^\nTraceback:\n"
     ]
    }
   ],
   "source": [
    "a<-c()\n",
    "\n",
    "for(i in 1:9).\n",
    "+ {a[i]=i*i\n",
    "+}\n",
    "a\n"
   ]
  },
  {
   "cell_type": "code",
   "execution_count": 106,
   "metadata": {},
   "outputs": [
    {
     "data": {
      "text/html": [
       "<ol class=list-inline>\n",
       "\t<li>'1 a'</li>\n",
       "\t<li>'2 b'</li>\n",
       "\t<li>'3 c'</li>\n",
       "\t<li>'4 a'</li>\n",
       "\t<li>'5 b'</li>\n",
       "</ol>\n"
      ],
      "text/latex": [
       "\\begin{enumerate*}\n",
       "\\item '1 a'\n",
       "\\item '2 b'\n",
       "\\item '3 c'\n",
       "\\item '4 a'\n",
       "\\item '5 b'\n",
       "\\end{enumerate*}\n"
      ],
      "text/markdown": [
       "1. '1 a'\n",
       "2. '2 b'\n",
       "3. '3 c'\n",
       "4. '4 a'\n",
       "5. '5 b'\n",
       "\n",
       "\n"
      ],
      "text/plain": [
       "[1] \"1 a\" \"2 b\" \"3 c\" \"4 a\" \"5 b\""
      ]
     },
     "metadata": {},
     "output_type": "display_data"
    },
    {
     "data": {
      "text/html": [
       "<ol class=list-inline>\n",
       "\t<li>'1 to the a'</li>\n",
       "\t<li>'2 to the b'</li>\n",
       "\t<li>'3 to the c'</li>\n",
       "\t<li>'4 to the a'</li>\n",
       "\t<li>'5 to the b'</li>\n",
       "</ol>\n"
      ],
      "text/latex": [
       "\\begin{enumerate*}\n",
       "\\item '1 to the a'\n",
       "\\item '2 to the b'\n",
       "\\item '3 to the c'\n",
       "\\item '4 to the a'\n",
       "\\item '5 to the b'\n",
       "\\end{enumerate*}\n"
      ],
      "text/markdown": [
       "1. '1 to the a'\n",
       "2. '2 to the b'\n",
       "3. '3 to the c'\n",
       "4. '4 to the a'\n",
       "5. '5 to the b'\n",
       "\n",
       "\n"
      ],
      "text/plain": [
       "[1] \"1 to the a\" \"2 to the b\" \"3 to the c\" \"4 to the a\" \"5 to the b\""
      ]
     },
     "metadata": {},
     "output_type": "display_data"
    },
    {
     "data": {
      "text/html": [
       "<ol class=list-inline>\n",
       "\t<li>'kor'</li>\n",
       "\t<li>'jap'</li>\n",
       "</ol>\n"
      ],
      "text/latex": [
       "\\begin{enumerate*}\n",
       "\\item 'kor'\n",
       "\\item 'jap'\n",
       "\\end{enumerate*}\n"
      ],
      "text/markdown": [
       "1. 'kor'\n",
       "2. 'jap'\n",
       "\n",
       "\n"
      ],
      "text/plain": [
       "[1] \"kor\" \"jap\""
      ]
     },
     "metadata": {},
     "output_type": "display_data"
    },
    {
     "data": {
      "text/html": [
       "<table>\n",
       "<thead><tr><th scope=col>a</th></tr></thead>\n",
       "<tbody>\n",
       "\t<tr><td>1</td></tr>\n",
       "\t<tr><td>2</td></tr>\n",
       "\t<tr><td>3</td></tr>\n",
       "\t<tr><td>4</td></tr>\n",
       "\t<tr><td>5</td></tr>\n",
       "</tbody>\n",
       "</table>\n"
      ],
      "text/latex": [
       "\\begin{tabular}{r|l}\n",
       " a\\\\\n",
       "\\hline\n",
       "\t 1\\\\\n",
       "\t 2\\\\\n",
       "\t 3\\\\\n",
       "\t 4\\\\\n",
       "\t 5\\\\\n",
       "\\end{tabular}\n"
      ],
      "text/markdown": [
       "\n",
       "| a |\n",
       "|---|\n",
       "| 1 |\n",
       "| 2 |\n",
       "| 3 |\n",
       "| 4 |\n",
       "| 5 |\n",
       "\n"
      ],
      "text/plain": [
       "  a\n",
       "1 1\n",
       "2 2\n",
       "3 3\n",
       "4 4\n",
       "5 5"
      ]
     },
     "metadata": {},
     "output_type": "display_data"
    },
    {
     "data": {
      "text/html": [
       "<ol>\n",
       "\t<li>1</li>\n",
       "\t<li>2</li>\n",
       "\t<li>3</li>\n",
       "\t<li>4</li>\n",
       "\t<li>5</li>\n",
       "</ol>\n"
      ],
      "text/latex": [
       "\\begin{enumerate}\n",
       "\\item 1\n",
       "\\item 2\n",
       "\\item 3\n",
       "\\item 4\n",
       "\\item 5\n",
       "\\end{enumerate}\n"
      ],
      "text/markdown": [
       "1. 1\n",
       "2. 2\n",
       "3. 3\n",
       "4. 4\n",
       "5. 5\n",
       "\n",
       "\n"
      ],
      "text/plain": [
       "[[1]]\n",
       "[1] 1\n",
       "\n",
       "[[2]]\n",
       "[1] 2\n",
       "\n",
       "[[3]]\n",
       "[1] 3\n",
       "\n",
       "[[4]]\n",
       "[1] 4\n",
       "\n",
       "[[5]]\n",
       "[1] 5\n"
      ]
     },
     "metadata": {},
     "output_type": "display_data"
    },
    {
     "data": {
      "text/html": [
       "<table>\n",
       "<tbody>\n",
       "\t<tr><td>1</td></tr>\n",
       "\t<tr><td>2</td></tr>\n",
       "\t<tr><td>3</td></tr>\n",
       "\t<tr><td>4</td></tr>\n",
       "\t<tr><td>5</td></tr>\n",
       "</tbody>\n",
       "</table>\n"
      ],
      "text/latex": [
       "\\begin{tabular}{l}\n",
       "\t 1\\\\\n",
       "\t 2\\\\\n",
       "\t 3\\\\\n",
       "\t 4\\\\\n",
       "\t 5\\\\\n",
       "\\end{tabular}\n"
      ],
      "text/markdown": [
       "\n",
       "| 1 |\n",
       "| 2 |\n",
       "| 3 |\n",
       "| 4 |\n",
       "| 5 |\n",
       "\n"
      ],
      "text/plain": [
       "     [,1]\n",
       "[1,] 1   \n",
       "[2,] 2   \n",
       "[3,] 3   \n",
       "[4,] 4   \n",
       "[5,] 5   "
      ]
     },
     "metadata": {},
     "output_type": "display_data"
    },
    {
     "data": {
      "text/html": [
       "<ol class=list-inline>\n",
       "\t<li>1</li>\n",
       "\t<li>2</li>\n",
       "\t<li>3</li>\n",
       "\t<li>4</li>\n",
       "\t<li>5</li>\n",
       "</ol>\n"
      ],
      "text/latex": [
       "\\begin{enumerate*}\n",
       "\\item 1\n",
       "\\item 2\n",
       "\\item 3\n",
       "\\item 4\n",
       "\\item 5\n",
       "\\end{enumerate*}\n"
      ],
      "text/markdown": [
       "1. 1\n",
       "2. 2\n",
       "3. 3\n",
       "4. 4\n",
       "5. 5\n",
       "\n",
       "\n"
      ],
      "text/plain": [
       "[1] 1 2 3 4 5"
      ]
     },
     "metadata": {},
     "output_type": "display_data"
    },
    {
     "data": {
      "text/html": [
       "<ol class=list-inline>\n",
       "\t<li>1</li>\n",
       "\t<li>2</li>\n",
       "\t<li>3</li>\n",
       "\t<li>4</li>\n",
       "\t<li>5</li>\n",
       "</ol>\n",
       "\n",
       "<details>\n",
       "\t<summary style=display:list-item;cursor:pointer>\n",
       "\t\t<strong>Levels</strong>:\n",
       "\t</summary>\n",
       "\t<ol class=list-inline>\n",
       "\t\t<li>'1'</li>\n",
       "\t\t<li>'2'</li>\n",
       "\t\t<li>'3'</li>\n",
       "\t\t<li>'4'</li>\n",
       "\t\t<li>'5'</li>\n",
       "\t</ol>\n",
       "</details>"
      ],
      "text/latex": [
       "\\begin{enumerate*}\n",
       "\\item 1\n",
       "\\item 2\n",
       "\\item 3\n",
       "\\item 4\n",
       "\\item 5\n",
       "\\end{enumerate*}\n",
       "\n",
       "\\emph{Levels}: \\begin{enumerate*}\n",
       "\\item '1'\n",
       "\\item '2'\n",
       "\\item '3'\n",
       "\\item '4'\n",
       "\\item '5'\n",
       "\\end{enumerate*}\n"
      ],
      "text/markdown": [
       "1. 1\n",
       "2. 2\n",
       "3. 3\n",
       "4. 4\n",
       "5. 5\n",
       "\n",
       "\n",
       "\n",
       "**Levels**: 1. '1'\n",
       "2. '2'\n",
       "3. '3'\n",
       "4. '4'\n",
       "5. '5'\n",
       "\n",
       "\n"
      ],
      "text/plain": [
       "[1] 1 2 3 4 5\n",
       "Levels: 1 2 3 4 5"
      ]
     },
     "metadata": {},
     "output_type": "display_data"
    },
    {
     "data": {
      "text/html": [
       "3"
      ],
      "text/latex": [
       "3"
      ],
      "text/markdown": [
       "3"
      ],
      "text/plain": [
       "[1] 3"
      ]
     },
     "metadata": {},
     "output_type": "display_data"
    },
    {
     "name": "stderr",
     "output_type": "stream",
     "text": [
      "Warning message in eval(expr, envir, enclos):\n",
      "\"강제형변환에 의해 생성된 NA 입니다\""
     ]
    },
    {
     "data": {
      "text/html": [
       "&lt;NA&gt;"
      ],
      "text/latex": [
       "<NA>"
      ],
      "text/markdown": [
       "&lt;NA&gt;"
      ],
      "text/plain": [
       "[1] NA"
      ]
     },
     "metadata": {},
     "output_type": "display_data"
    },
    {
     "data": {
      "text/html": [
       "<time datetime=\"2020-02-20\">2020-02-20</time>"
      ],
      "text/latex": [
       "2020-02-20"
      ],
      "text/markdown": [
       "2020-02-20"
      ],
      "text/plain": [
       "[1] \"2020-02-20\""
      ]
     },
     "metadata": {},
     "output_type": "display_data"
    },
    {
     "data": {
      "text/html": [
       "<time datetime=\"2020-02-20\">2020-02-20</time>"
      ],
      "text/latex": [
       "2020-02-20"
      ],
      "text/markdown": [
       "2020-02-20"
      ],
      "text/plain": [
       "[1] \"2020-02-20\""
      ]
     },
     "metadata": {},
     "output_type": "display_data"
    },
    {
     "data": {
      "text/html": [
       "'2020-02-20'"
      ],
      "text/latex": [
       "'2020-02-20'"
      ],
      "text/markdown": [
       "'2020-02-20'"
      ],
      "text/plain": [
       "[1] \"2020-02-20\""
      ]
     },
     "metadata": {},
     "output_type": "display_data"
    },
    {
     "data": {
      "text/html": [
       "'목'"
      ],
      "text/latex": [
       "'목'"
      ],
      "text/markdown": [
       "'목'"
      ],
      "text/plain": [
       "[1] \"목\""
      ]
     },
     "metadata": {},
     "output_type": "display_data"
    },
    {
     "data": {
      "text/html": [
       "'2'"
      ],
      "text/latex": [
       "'2'"
      ],
      "text/markdown": [
       "'2'"
      ],
      "text/plain": [
       "[1] \"2\""
      ]
     },
     "metadata": {},
     "output_type": "display_data"
    },
    {
     "data": {
      "text/html": [
       "'20'"
      ],
      "text/latex": [
       "'20'"
      ],
      "text/markdown": [
       "'20'"
      ],
      "text/plain": [
       "[1] \"20\""
      ]
     },
     "metadata": {},
     "output_type": "display_data"
    },
    {
     "data": {
      "text/html": [
       "'2020'"
      ],
      "text/latex": [
       "'2020'"
      ],
      "text/markdown": [
       "'2020'"
      ],
      "text/plain": [
       "[1] \"2020\""
      ]
     },
     "metadata": {},
     "output_type": "display_data"
    }
   ],
   "source": [
    "number<-1:5\n",
    "alphabet<-c(\"a\",\"b\",\"c\")\n",
    "paste(number,alphabet) #paste 문자열 합치기\n",
    "n=number\n",
    "al=alphabet\n",
    "paste(n,al,sep=' to the ') #sep 문자열 사이에 삽입\n",
    "\n",
    "country<-c('korea','japan')\n",
    "substr(country,1,3)   #supstr 1번부터 3개의 글자 추출\n",
    "\n",
    "as.data.frame(a) #dataframe 형식변환\n",
    "as.list(a)       #list \n",
    "as.matrix(a)     #matrix\n",
    "as.vector(a)     #vector\n",
    "as.factor(a)     #factor\n",
    "as.integer(3.14) #실수형 벡터 정수형\n",
    "as.numeric('foo')#'foo'는 숫자형 자료가 아니므로 'NA' 출력\n",
    "as.Date('2020-2-20')#문자열 > 날자로 변환\n",
    "as.Date('2020-2-20',format='%Y-%m-%d') #format형식으로 날짜 지정\n",
    "format(Sys.Date()) # 현재 날짜 //대소문자 구분 중요\n",
    "format(Sys.Date(),'%a') #현재 요일출력\n",
    "format(Sys.Date(),'%b') #현재 월출력\n",
    "format(Sys.Date(),'%y') #연도 두자리 숫자로\n",
    "format(Sys.Date(),'%Y') #연도 네자리 숫자로"
   ]
  },
  {
   "cell_type": "markdown",
   "metadata": {},
   "source": [
    "## R 그래픽기능"
   ]
  },
  {
   "cell_type": "code",
   "execution_count": 111,
   "metadata": {},
   "outputs": [
    {
     "data": {
      "image/png": "[encoded data removed]",
      "text/plain": [
       "plot without title"
      ]
     },
     "metadata": {},
     "output_type": "display_data"
    }
   ],
   "source": [
    "mate<-c(95,65,80,92,60,75,8,100,75,68)\n",
    "scie<-c(90,70,80,95,65,70,85,95,70,60)\n",
    "#plot(mate,scie)\n",
    "#pairs 범주를 색깔로 구분하여 산점도행렬 그리기\n",
    "pairs(iris[1:4],main='data',pch=23,bg=c('red','green3','blue')[unclass(iris$secies)]) #main =제목, pch=점 모양, bg =색상부여"
   ]
  },
  {
   "cell_type": "code",
   "execution_count": 115,
   "metadata": {},
   "outputs": [
    {
     "data": {
      "image/png": "[encoded data removed]",
      "text/plain": [
       "Plot with title \"Histogram of height\""
      ]
     },
     "metadata": {},
     "output_type": "display_data"
    },
    {
     "data": {
      "image/png": "[encoded data removed]",
      "text/plain": [
       "plot without title"
      ]
     },
     "metadata": {},
     "output_type": "display_data"
    }
   ],
   "source": [
    "height<-c(182,160,165,170,163,160,181,166,159,145,175)\n",
    "hist(height)\n",
    "boxplot(height)"
   ]
  },
  {
   "cell_type": "markdown",
   "metadata": {},
   "source": [
    "# 데이터 마트"
   ]
  },
  {
   "cell_type": "code",
   "execution_count": 117,
   "metadata": {},
   "outputs": [
    {
     "name": "stdout",
     "output_type": "stream",
     "text": [
      "package 'reshape' successfully unpacked and MD5 sums checked\n",
      "\n",
      "The downloaded binary packages are in\n",
      "\tC:\\Users\\hhjg3\\AppData\\Local\\Temp\\RtmpEFzpYL\\downloaded_packages\n"
     ]
    },
    {
     "name": "stderr",
     "output_type": "stream",
     "text": [
      "Warning message:\n",
      "\"package 'reshape' was built under R version 3.6.2\""
     ]
    }
   ],
   "source": [
    "# melt() = 여러변수로 구성된 데이터 id,variable,value 형태로 재구성\n",
    "# cast() = melt된 데이터를 여러칼럼으로 변환\n",
    "\n",
    "#install.packages('reshape')\n",
    "#library(reshape)"
   ]
  },
  {
   "cell_type": "code",
   "execution_count": 122,
   "metadata": {},
   "outputs": [
    {
     "data": {
      "text/html": [
       "<table>\n",
       "<thead><tr><th scope=col>ozone</th><th scope=col>solar.r</th><th scope=col>wind</th><th scope=col>temp</th><th scope=col>month</th><th scope=col>day</th></tr></thead>\n",
       "<tbody>\n",
       "\t<tr><td>41  </td><td>190 </td><td> 7.4</td><td>67  </td><td>5   </td><td>1   </td></tr>\n",
       "\t<tr><td>36  </td><td>118 </td><td> 8.0</td><td>72  </td><td>5   </td><td>2   </td></tr>\n",
       "\t<tr><td>12  </td><td>149 </td><td>12.6</td><td>74  </td><td>5   </td><td>3   </td></tr>\n",
       "\t<tr><td>18  </td><td>313 </td><td>11.5</td><td>62  </td><td>5   </td><td>4   </td></tr>\n",
       "\t<tr><td>NA  </td><td> NA </td><td>14.3</td><td>56  </td><td>5   </td><td>5   </td></tr>\n",
       "</tbody>\n",
       "</table>\n"
      ],
      "text/latex": [
       "\\begin{tabular}{r|llllll}\n",
       " ozone & solar.r & wind & temp & month & day\\\\\n",
       "\\hline\n",
       "\t 41   & 190  &  7.4 & 67   & 5    & 1   \\\\\n",
       "\t 36   & 118  &  8.0 & 72   & 5    & 2   \\\\\n",
       "\t 12   & 149  & 12.6 & 74   & 5    & 3   \\\\\n",
       "\t 18   & 313  & 11.5 & 62   & 5    & 4   \\\\\n",
       "\t NA   &  NA  & 14.3 & 56   & 5    & 5   \\\\\n",
       "\\end{tabular}\n"
      ],
      "text/markdown": [
       "\n",
       "| ozone | solar.r | wind | temp | month | day |\n",
       "|---|---|---|---|---|---|\n",
       "| 41   | 190  |  7.4 | 67   | 5    | 1    |\n",
       "| 36   | 118  |  8.0 | 72   | 5    | 2    |\n",
       "| 12   | 149  | 12.6 | 74   | 5    | 3    |\n",
       "| 18   | 313  | 11.5 | 62   | 5    | 4    |\n",
       "| NA   |  NA  | 14.3 | 56   | 5    | 5    |\n",
       "\n"
      ],
      "text/plain": [
       "  ozone solar.r wind temp month day\n",
       "1 41    190      7.4 67   5     1  \n",
       "2 36    118      8.0 72   5     2  \n",
       "3 12    149     12.6 74   5     3  \n",
       "4 18    313     11.5 62   5     4  \n",
       "5 NA     NA     14.3 56   5     5  "
      ]
     },
     "metadata": {},
     "output_type": "display_data"
    },
    {
     "data": {
      "text/html": [
       "<ol class=list-inline>\n",
       "\t<li>'ozone'</li>\n",
       "\t<li>'solar.r'</li>\n",
       "\t<li>'wind'</li>\n",
       "\t<li>'temp'</li>\n",
       "\t<li>'month'</li>\n",
       "\t<li>'day'</li>\n",
       "</ol>\n"
      ],
      "text/latex": [
       "\\begin{enumerate*}\n",
       "\\item 'ozone'\n",
       "\\item 'solar.r'\n",
       "\\item 'wind'\n",
       "\\item 'temp'\n",
       "\\item 'month'\n",
       "\\item 'day'\n",
       "\\end{enumerate*}\n"
      ],
      "text/markdown": [
       "1. 'ozone'\n",
       "2. 'solar.r'\n",
       "3. 'wind'\n",
       "4. 'temp'\n",
       "5. 'month'\n",
       "6. 'day'\n",
       "\n",
       "\n"
      ],
      "text/plain": [
       "[1] \"ozone\"   \"solar.r\" \"wind\"    \"temp\"    \"month\"   \"day\"    "
      ]
     },
     "metadata": {},
     "output_type": "display_data"
    },
    {
     "data": {
      "text/html": [
       "<table>\n",
       "<thead><tr><th scope=col>month</th><th scope=col>day</th><th scope=col>variable</th><th scope=col>value</th></tr></thead>\n",
       "<tbody>\n",
       "\t<tr><td>5    </td><td> 1   </td><td>ozone</td><td> 41  </td></tr>\n",
       "\t<tr><td>5    </td><td> 2   </td><td>ozone</td><td> 36  </td></tr>\n",
       "\t<tr><td>5    </td><td> 3   </td><td>ozone</td><td> 12  </td></tr>\n",
       "\t<tr><td>5    </td><td> 4   </td><td>ozone</td><td> 18  </td></tr>\n",
       "\t<tr><td>5    </td><td> 6   </td><td>ozone</td><td> 28  </td></tr>\n",
       "\t<tr><td>5    </td><td> 7   </td><td>ozone</td><td> 23  </td></tr>\n",
       "\t<tr><td>5    </td><td> 8   </td><td>ozone</td><td> 19  </td></tr>\n",
       "\t<tr><td>5    </td><td> 9   </td><td>ozone</td><td>  8  </td></tr>\n",
       "\t<tr><td>5    </td><td>11   </td><td>ozone</td><td>  7  </td></tr>\n",
       "\t<tr><td>5    </td><td>12   </td><td>ozone</td><td> 16  </td></tr>\n",
       "\t<tr><td>5    </td><td>13   </td><td>ozone</td><td> 11  </td></tr>\n",
       "\t<tr><td>5    </td><td>14   </td><td>ozone</td><td> 14  </td></tr>\n",
       "\t<tr><td>5    </td><td>15   </td><td>ozone</td><td> 18  </td></tr>\n",
       "\t<tr><td>5    </td><td>16   </td><td>ozone</td><td> 14  </td></tr>\n",
       "\t<tr><td>5    </td><td>17   </td><td>ozone</td><td> 34  </td></tr>\n",
       "\t<tr><td>5    </td><td>18   </td><td>ozone</td><td>  6  </td></tr>\n",
       "\t<tr><td>5    </td><td>19   </td><td>ozone</td><td> 30  </td></tr>\n",
       "\t<tr><td>5    </td><td>20   </td><td>ozone</td><td> 11  </td></tr>\n",
       "\t<tr><td>5    </td><td>21   </td><td>ozone</td><td>  1  </td></tr>\n",
       "\t<tr><td>5    </td><td>22   </td><td>ozone</td><td> 11  </td></tr>\n",
       "\t<tr><td>5    </td><td>23   </td><td>ozone</td><td>  4  </td></tr>\n",
       "\t<tr><td>5    </td><td>24   </td><td>ozone</td><td> 32  </td></tr>\n",
       "\t<tr><td>5    </td><td>28   </td><td>ozone</td><td> 23  </td></tr>\n",
       "\t<tr><td>5    </td><td>29   </td><td>ozone</td><td> 45  </td></tr>\n",
       "\t<tr><td>5    </td><td>30   </td><td>ozone</td><td>115  </td></tr>\n",
       "\t<tr><td>5    </td><td>31   </td><td>ozone</td><td> 37  </td></tr>\n",
       "\t<tr><td>6    </td><td> 7   </td><td>ozone</td><td> 29  </td></tr>\n",
       "\t<tr><td>6    </td><td> 9   </td><td>ozone</td><td> 71  </td></tr>\n",
       "\t<tr><td>6    </td><td>10   </td><td>ozone</td><td> 39  </td></tr>\n",
       "\t<tr><td>6    </td><td>13   </td><td>ozone</td><td> 23  </td></tr>\n",
       "\t<tr><td>...</td><td>...</td><td>...</td><td>...</td></tr>\n",
       "\t<tr><td>9   </td><td> 1  </td><td>temp</td><td>91  </td></tr>\n",
       "\t<tr><td>9   </td><td> 2  </td><td>temp</td><td>92  </td></tr>\n",
       "\t<tr><td>9   </td><td> 3  </td><td>temp</td><td>93  </td></tr>\n",
       "\t<tr><td>9   </td><td> 4  </td><td>temp</td><td>93  </td></tr>\n",
       "\t<tr><td>9   </td><td> 5  </td><td>temp</td><td>87  </td></tr>\n",
       "\t<tr><td>9   </td><td> 6  </td><td>temp</td><td>84  </td></tr>\n",
       "\t<tr><td>9   </td><td> 7  </td><td>temp</td><td>80  </td></tr>\n",
       "\t<tr><td>9   </td><td> 8  </td><td>temp</td><td>78  </td></tr>\n",
       "\t<tr><td>9   </td><td> 9  </td><td>temp</td><td>75  </td></tr>\n",
       "\t<tr><td>9   </td><td>10  </td><td>temp</td><td>73  </td></tr>\n",
       "\t<tr><td>9   </td><td>11  </td><td>temp</td><td>81  </td></tr>\n",
       "\t<tr><td>9   </td><td>12  </td><td>temp</td><td>76  </td></tr>\n",
       "\t<tr><td>9   </td><td>13  </td><td>temp</td><td>77  </td></tr>\n",
       "\t<tr><td>9   </td><td>14  </td><td>temp</td><td>71  </td></tr>\n",
       "\t<tr><td>9   </td><td>15  </td><td>temp</td><td>71  </td></tr>\n",
       "\t<tr><td>9   </td><td>16  </td><td>temp</td><td>78  </td></tr>\n",
       "\t<tr><td>9   </td><td>17  </td><td>temp</td><td>67  </td></tr>\n",
       "\t<tr><td>9   </td><td>18  </td><td>temp</td><td>76  </td></tr>\n",
       "\t<tr><td>9   </td><td>19  </td><td>temp</td><td>68  </td></tr>\n",
       "\t<tr><td>9   </td><td>20  </td><td>temp</td><td>82  </td></tr>\n",
       "\t<tr><td>9   </td><td>21  </td><td>temp</td><td>64  </td></tr>\n",
       "\t<tr><td>9   </td><td>22  </td><td>temp</td><td>71  </td></tr>\n",
       "\t<tr><td>9   </td><td>23  </td><td>temp</td><td>81  </td></tr>\n",
       "\t<tr><td>9   </td><td>24  </td><td>temp</td><td>69  </td></tr>\n",
       "\t<tr><td>9   </td><td>25  </td><td>temp</td><td>63  </td></tr>\n",
       "\t<tr><td>9   </td><td>26  </td><td>temp</td><td>70  </td></tr>\n",
       "\t<tr><td>9   </td><td>27  </td><td>temp</td><td>77  </td></tr>\n",
       "\t<tr><td>9   </td><td>28  </td><td>temp</td><td>75  </td></tr>\n",
       "\t<tr><td>9   </td><td>29  </td><td>temp</td><td>76  </td></tr>\n",
       "\t<tr><td>9   </td><td>30  </td><td>temp</td><td>68  </td></tr>\n",
       "</tbody>\n",
       "</table>\n"
      ],
      "text/latex": [
       "\\begin{tabular}{r|llll}\n",
       " month & day & variable & value\\\\\n",
       "\\hline\n",
       "\t 5     &  1    & ozone &  41  \\\\\n",
       "\t 5     &  2    & ozone &  36  \\\\\n",
       "\t 5     &  3    & ozone &  12  \\\\\n",
       "\t 5     &  4    & ozone &  18  \\\\\n",
       "\t 5     &  6    & ozone &  28  \\\\\n",
       "\t 5     &  7    & ozone &  23  \\\\\n",
       "\t 5     &  8    & ozone &  19  \\\\\n",
       "\t 5     &  9    & ozone &   8  \\\\\n",
       "\t 5     & 11    & ozone &   7  \\\\\n",
       "\t 5     & 12    & ozone &  16  \\\\\n",
       "\t 5     & 13    & ozone &  11  \\\\\n",
       "\t 5     & 14    & ozone &  14  \\\\\n",
       "\t 5     & 15    & ozone &  18  \\\\\n",
       "\t 5     & 16    & ozone &  14  \\\\\n",
       "\t 5     & 17    & ozone &  34  \\\\\n",
       "\t 5     & 18    & ozone &   6  \\\\\n",
       "\t 5     & 19    & ozone &  30  \\\\\n",
       "\t 5     & 20    & ozone &  11  \\\\\n",
       "\t 5     & 21    & ozone &   1  \\\\\n",
       "\t 5     & 22    & ozone &  11  \\\\\n",
       "\t 5     & 23    & ozone &   4  \\\\\n",
       "\t 5     & 24    & ozone &  32  \\\\\n",
       "\t 5     & 28    & ozone &  23  \\\\\n",
       "\t 5     & 29    & ozone &  45  \\\\\n",
       "\t 5     & 30    & ozone & 115  \\\\\n",
       "\t 5     & 31    & ozone &  37  \\\\\n",
       "\t 6     &  7    & ozone &  29  \\\\\n",
       "\t 6     &  9    & ozone &  71  \\\\\n",
       "\t 6     & 10    & ozone &  39  \\\\\n",
       "\t 6     & 13    & ozone &  23  \\\\\n",
       "\t ... & ... & ... & ...\\\\\n",
       "\t 9    &  1   & temp & 91  \\\\\n",
       "\t 9    &  2   & temp & 92  \\\\\n",
       "\t 9    &  3   & temp & 93  \\\\\n",
       "\t 9    &  4   & temp & 93  \\\\\n",
       "\t 9    &  5   & temp & 87  \\\\\n",
       "\t 9    &  6   & temp & 84  \\\\\n",
       "\t 9    &  7   & temp & 80  \\\\\n",
       "\t 9    &  8   & temp & 78  \\\\\n",
       "\t 9    &  9   & temp & 75  \\\\\n",
       "\t 9    & 10   & temp & 73  \\\\\n",
       "\t 9    & 11   & temp & 81  \\\\\n",
       "\t 9    & 12   & temp & 76  \\\\\n",
       "\t 9    & 13   & temp & 77  \\\\\n",
       "\t 9    & 14   & temp & 71  \\\\\n",
       "\t 9    & 15   & temp & 71  \\\\\n",
       "\t 9    & 16   & temp & 78  \\\\\n",
       "\t 9    & 17   & temp & 67  \\\\\n",
       "\t 9    & 18   & temp & 76  \\\\\n",
       "\t 9    & 19   & temp & 68  \\\\\n",
       "\t 9    & 20   & temp & 82  \\\\\n",
       "\t 9    & 21   & temp & 64  \\\\\n",
       "\t 9    & 22   & temp & 71  \\\\\n",
       "\t 9    & 23   & temp & 81  \\\\\n",
       "\t 9    & 24   & temp & 69  \\\\\n",
       "\t 9    & 25   & temp & 63  \\\\\n",
       "\t 9    & 26   & temp & 70  \\\\\n",
       "\t 9    & 27   & temp & 77  \\\\\n",
       "\t 9    & 28   & temp & 75  \\\\\n",
       "\t 9    & 29   & temp & 76  \\\\\n",
       "\t 9    & 30   & temp & 68  \\\\\n",
       "\\end{tabular}\n"
      ],
      "text/markdown": [
       "\n",
       "| month | day | variable | value |\n",
       "|---|---|---|---|\n",
       "| 5     |  1    | ozone |  41   |\n",
       "| 5     |  2    | ozone |  36   |\n",
       "| 5     |  3    | ozone |  12   |\n",
       "| 5     |  4    | ozone |  18   |\n",
       "| 5     |  6    | ozone |  28   |\n",
       "| 5     |  7    | ozone |  23   |\n",
       "| 5     |  8    | ozone |  19   |\n",
       "| 5     |  9    | ozone |   8   |\n",
       "| 5     | 11    | ozone |   7   |\n",
       "| 5     | 12    | ozone |  16   |\n",
       "| 5     | 13    | ozone |  11   |\n",
       "| 5     | 14    | ozone |  14   |\n",
       "| 5     | 15    | ozone |  18   |\n",
       "| 5     | 16    | ozone |  14   |\n",
       "| 5     | 17    | ozone |  34   |\n",
       "| 5     | 18    | ozone |   6   |\n",
       "| 5     | 19    | ozone |  30   |\n",
       "| 5     | 20    | ozone |  11   |\n",
       "| 5     | 21    | ozone |   1   |\n",
       "| 5     | 22    | ozone |  11   |\n",
       "| 5     | 23    | ozone |   4   |\n",
       "| 5     | 24    | ozone |  32   |\n",
       "| 5     | 28    | ozone |  23   |\n",
       "| 5     | 29    | ozone |  45   |\n",
       "| 5     | 30    | ozone | 115   |\n",
       "| 5     | 31    | ozone |  37   |\n",
       "| 6     |  7    | ozone |  29   |\n",
       "| 6     |  9    | ozone |  71   |\n",
       "| 6     | 10    | ozone |  39   |\n",
       "| 6     | 13    | ozone |  23   |\n",
       "| ... | ... | ... | ... |\n",
       "| 9    |  1   | temp | 91   |\n",
       "| 9    |  2   | temp | 92   |\n",
       "| 9    |  3   | temp | 93   |\n",
       "| 9    |  4   | temp | 93   |\n",
       "| 9    |  5   | temp | 87   |\n",
       "| 9    |  6   | temp | 84   |\n",
       "| 9    |  7   | temp | 80   |\n",
       "| 9    |  8   | temp | 78   |\n",
       "| 9    |  9   | temp | 75   |\n",
       "| 9    | 10   | temp | 73   |\n",
       "| 9    | 11   | temp | 81   |\n",
       "| 9    | 12   | temp | 76   |\n",
       "| 9    | 13   | temp | 77   |\n",
       "| 9    | 14   | temp | 71   |\n",
       "| 9    | 15   | temp | 71   |\n",
       "| 9    | 16   | temp | 78   |\n",
       "| 9    | 17   | temp | 67   |\n",
       "| 9    | 18   | temp | 76   |\n",
       "| 9    | 19   | temp | 68   |\n",
       "| 9    | 20   | temp | 82   |\n",
       "| 9    | 21   | temp | 64   |\n",
       "| 9    | 22   | temp | 71   |\n",
       "| 9    | 23   | temp | 81   |\n",
       "| 9    | 24   | temp | 69   |\n",
       "| 9    | 25   | temp | 63   |\n",
       "| 9    | 26   | temp | 70   |\n",
       "| 9    | 27   | temp | 77   |\n",
       "| 9    | 28   | temp | 75   |\n",
       "| 9    | 29   | temp | 76   |\n",
       "| 9    | 30   | temp | 68   |\n",
       "\n"
      ],
      "text/plain": [
       "    month day variable value\n",
       "1   5      1  ozone     41  \n",
       "2   5      2  ozone     36  \n",
       "3   5      3  ozone     12  \n",
       "4   5      4  ozone     18  \n",
       "5   5      6  ozone     28  \n",
       "6   5      7  ozone     23  \n",
       "7   5      8  ozone     19  \n",
       "8   5      9  ozone      8  \n",
       "9   5     11  ozone      7  \n",
       "10  5     12  ozone     16  \n",
       "11  5     13  ozone     11  \n",
       "12  5     14  ozone     14  \n",
       "13  5     15  ozone     18  \n",
       "14  5     16  ozone     14  \n",
       "15  5     17  ozone     34  \n",
       "16  5     18  ozone      6  \n",
       "17  5     19  ozone     30  \n",
       "18  5     20  ozone     11  \n",
       "19  5     21  ozone      1  \n",
       "20  5     22  ozone     11  \n",
       "21  5     23  ozone      4  \n",
       "22  5     24  ozone     32  \n",
       "23  5     28  ozone     23  \n",
       "24  5     29  ozone     45  \n",
       "25  5     30  ozone    115  \n",
       "26  5     31  ozone     37  \n",
       "27  6      7  ozone     29  \n",
       "28  6      9  ozone     71  \n",
       "29  6     10  ozone     39  \n",
       "30  6     13  ozone     23  \n",
       "... ...   ... ...      ...  \n",
       "539 9      1  temp     91   \n",
       "540 9      2  temp     92   \n",
       "541 9      3  temp     93   \n",
       "542 9      4  temp     93   \n",
       "543 9      5  temp     87   \n",
       "544 9      6  temp     84   \n",
       "545 9      7  temp     80   \n",
       "546 9      8  temp     78   \n",
       "547 9      9  temp     75   \n",
       "548 9     10  temp     73   \n",
       "549 9     11  temp     81   \n",
       "550 9     12  temp     76   \n",
       "551 9     13  temp     77   \n",
       "552 9     14  temp     71   \n",
       "553 9     15  temp     71   \n",
       "554 9     16  temp     78   \n",
       "555 9     17  temp     67   \n",
       "556 9     18  temp     76   \n",
       "557 9     19  temp     68   \n",
       "558 9     20  temp     82   \n",
       "559 9     21  temp     64   \n",
       "560 9     22  temp     71   \n",
       "561 9     23  temp     81   \n",
       "562 9     24  temp     69   \n",
       "563 9     25  temp     63   \n",
       "564 9     26  temp     70   \n",
       "565 9     27  temp     77   \n",
       "566 9     28  temp     75   \n",
       "567 9     29  temp     76   \n",
       "568 9     30  temp     68   "
      ]
     },
     "metadata": {},
     "output_type": "display_data"
    }
   ],
   "source": [
    "data(airquality)\n",
    "colnames(airquality)<-tolower(colnames(airquality))\n",
    "head(airquality,5)\n",
    "names(airquality) #names = 변수명 알고싶을 때\n",
    "                  #tolower = 소문자로 변경\n",
    "\n",
    "T<-melt(airquality,id=c('month','day'),na.rm=TRUE)\n",
    "T"
   ]
  },
  {
   "cell_type": "code",
   "execution_count": 145,
   "metadata": {},
   "outputs": [
    {
     "data": {
      "text/html": [
       "<ol class=list-inline>\n",
       "\t<li>41</li>\n",
       "\t<li>36</li>\n",
       "\t<li>12</li>\n",
       "\t<li>18</li>\n",
       "\t<li>&lt;NA&gt;</li>\n",
       "\t<li>28</li>\n",
       "</ol>\n"
      ],
      "text/latex": [
       "\\begin{enumerate*}\n",
       "\\item 41\n",
       "\\item 36\n",
       "\\item 12\n",
       "\\item 18\n",
       "\\item <NA>\n",
       "\\item 28\n",
       "\\end{enumerate*}\n"
      ],
      "text/markdown": [
       "1. 41\n",
       "2. 36\n",
       "3. 12\n",
       "4. 18\n",
       "5. &lt;NA&gt;\n",
       "6. 28\n",
       "\n",
       "\n"
      ],
      "text/plain": [
       "[1] 41 36 12 18 NA 28"
      ]
     },
     "metadata": {},
     "output_type": "display_data"
    },
    {
     "data": {
      "text/html": [
       "<table>\n",
       "<thead><tr><th scope=col>month</th><th scope=col>ozone_X1</th><th scope=col>ozone_X2</th><th scope=col>solar.r_X1</th><th scope=col>solar.r_X2</th><th scope=col>wind_X1</th><th scope=col>wind_X2</th><th scope=col>temp_X1</th><th scope=col>temp_X2</th></tr></thead>\n",
       "<tbody>\n",
       "\t<tr><td>5   </td><td> 1  </td><td>115 </td><td> 8  </td><td>334 </td><td>5.7 </td><td>20.1</td><td>56  </td><td>81  </td></tr>\n",
       "\t<tr><td>6   </td><td>12  </td><td> 71 </td><td>31  </td><td>332 </td><td>1.7 </td><td>20.7</td><td>65  </td><td>93  </td></tr>\n",
       "\t<tr><td>7   </td><td> 7  </td><td>135 </td><td> 7  </td><td>314 </td><td>4.1 </td><td>14.9</td><td>73  </td><td>92  </td></tr>\n",
       "\t<tr><td>8   </td><td> 9  </td><td>168 </td><td>24  </td><td>273 </td><td>2.3 </td><td>15.5</td><td>72  </td><td>97  </td></tr>\n",
       "\t<tr><td>9   </td><td> 7  </td><td> 96 </td><td>14  </td><td>259 </td><td>2.8 </td><td>16.6</td><td>63  </td><td>93  </td></tr>\n",
       "</tbody>\n",
       "</table>\n"
      ],
      "text/latex": [
       "\\begin{tabular}{r|lllllllll}\n",
       " month & ozone\\_X1 & ozone\\_X2 & solar.r\\_X1 & solar.r\\_X2 & wind\\_X1 & wind\\_X2 & temp\\_X1 & temp\\_X2\\\\\n",
       "\\hline\n",
       "\t 5    &  1   & 115  &  8   & 334  & 5.7  & 20.1 & 56   & 81  \\\\\n",
       "\t 6    & 12   &  71  & 31   & 332  & 1.7  & 20.7 & 65   & 93  \\\\\n",
       "\t 7    &  7   & 135  &  7   & 314  & 4.1  & 14.9 & 73   & 92  \\\\\n",
       "\t 8    &  9   & 168  & 24   & 273  & 2.3  & 15.5 & 72   & 97  \\\\\n",
       "\t 9    &  7   &  96  & 14   & 259  & 2.8  & 16.6 & 63   & 93  \\\\\n",
       "\\end{tabular}\n"
      ],
      "text/markdown": [
       "\n",
       "| month | ozone_X1 | ozone_X2 | solar.r_X1 | solar.r_X2 | wind_X1 | wind_X2 | temp_X1 | temp_X2 |\n",
       "|---|---|---|---|---|---|---|---|---|\n",
       "| 5    |  1   | 115  |  8   | 334  | 5.7  | 20.1 | 56   | 81   |\n",
       "| 6    | 12   |  71  | 31   | 332  | 1.7  | 20.7 | 65   | 93   |\n",
       "| 7    |  7   | 135  |  7   | 314  | 4.1  | 14.9 | 73   | 92   |\n",
       "| 8    |  9   | 168  | 24   | 273  | 2.3  | 15.5 | 72   | 97   |\n",
       "| 9    |  7   |  96  | 14   | 259  | 2.8  | 16.6 | 63   | 93   |\n",
       "\n"
      ],
      "text/plain": [
       "  month ozone_X1 ozone_X2 solar.r_X1 solar.r_X2 wind_X1 wind_X2 temp_X1 temp_X2\n",
       "1 5      1       115       8         334        5.7     20.1    56      81     \n",
       "2 6     12        71      31         332        1.7     20.7    65      93     \n",
       "3 7      7       135       7         314        4.1     14.9    73      92     \n",
       "4 8      9       168      24         273        2.3     15.5    72      97     \n",
       "5 9      7        96      14         259        2.8     16.6    63      93     "
      ]
     },
     "metadata": {},
     "output_type": "display_data"
    }
   ],
   "source": [
    "head(cast(T,day~month~variable))\n",
    "\n",
    "b<-cast(T,month~variable,mean) # mean =각 변수들의 평균\n",
    "b<-cast(T,month~variable,mean,margins = c('grand_row','grand_col')) #margins = 행과 열 합계산출기능\n",
    "e<-cast(T,day~month,mean,subset=variable=='ozone') #subset= 특정 변수만 처리\n",
    "f<-cast(T,month~variable,range)#range = min 은 _X1 max 는 _X2 변수명을 붙여준다\n",
    "f"
   ]
  },
  {
   "cell_type": "code",
   "execution_count": 146,
   "metadata": {},
   "outputs": [
    {
     "name": "stdout",
     "output_type": "stream",
     "text": [
      "package 'plyr' successfully unpacked and MD5 sums checked\n"
     ]
    },
    {
     "name": "stderr",
     "output_type": "stream",
     "text": [
      "Warning message:\n",
      "\"cannot remove prior installation of package 'plyr'\"Warning message in file.copy(savedcopy, lib, recursive = TRUE):\n",
      "\"C:\\Users\\hhjg3\\Anaconda3\\Lib\\R\\library\\00LOCK\\plyr\\libs\\x64\\plyr.dll를 C:\\Users\\hhjg3\\Anaconda3\\Lib\\R\\library\\plyr\\libs\\x64\\plyr.dll로 복사하는데 문제가 발생했습니다: Permission denied\"Warning message:\n",
      "\"restored 'plyr'\""
     ]
    },
    {
     "name": "stdout",
     "output_type": "stream",
     "text": [
      "\n",
      "The downloaded binary packages are in\n",
      "\tC:\\Users\\hhjg3\\AppData\\Local\\Temp\\RtmpEFzpYL\\downloaded_packages\n"
     ]
    }
   ],
   "source": [
    "#ply()  ply 앞에 두개의 접두사 EX) ddply dataframe로 받아서 가공후 dataframe으로 변환\n",
    "set.seed(1) #난수 생성 시 같은 값의 난수들 생성\n",
    "d<-data.frame(year=rep(2014:2016,each=6),count=round(runif(9,0,20)))\n",
    "install.packages('plyr')"
   ]
  },
  {
   "cell_type": "code",
   "execution_count": 152,
   "metadata": {},
   "outputs": [
    {
     "data": {
      "text/html": [
       "<table>\n",
       "<thead><tr><th scope=col>year</th><th scope=col>count</th></tr></thead>\n",
       "<tbody>\n",
       "\t<tr><td>2014</td><td> 5  </td></tr>\n",
       "\t<tr><td>2014</td><td> 7  </td></tr>\n",
       "\t<tr><td>2014</td><td>11  </td></tr>\n",
       "\t<tr><td>2014</td><td>18  </td></tr>\n",
       "\t<tr><td>2014</td><td> 4  </td></tr>\n",
       "\t<tr><td>2014</td><td>18  </td></tr>\n",
       "\t<tr><td>2015</td><td>19  </td></tr>\n",
       "\t<tr><td>2015</td><td>13  </td></tr>\n",
       "\t<tr><td>2015</td><td>13  </td></tr>\n",
       "\t<tr><td>2015</td><td> 5  </td></tr>\n",
       "\t<tr><td>2015</td><td> 7  </td></tr>\n",
       "\t<tr><td>2015</td><td>11  </td></tr>\n",
       "\t<tr><td>2016</td><td>18  </td></tr>\n",
       "\t<tr><td>2016</td><td> 4  </td></tr>\n",
       "\t<tr><td>2016</td><td>18  </td></tr>\n",
       "\t<tr><td>2016</td><td>19  </td></tr>\n",
       "\t<tr><td>2016</td><td>13  </td></tr>\n",
       "\t<tr><td>2016</td><td>13  </td></tr>\n",
       "</tbody>\n",
       "</table>\n"
      ],
      "text/latex": [
       "\\begin{tabular}{r|ll}\n",
       " year & count\\\\\n",
       "\\hline\n",
       "\t 2014 &  5  \\\\\n",
       "\t 2014 &  7  \\\\\n",
       "\t 2014 & 11  \\\\\n",
       "\t 2014 & 18  \\\\\n",
       "\t 2014 &  4  \\\\\n",
       "\t 2014 & 18  \\\\\n",
       "\t 2015 & 19  \\\\\n",
       "\t 2015 & 13  \\\\\n",
       "\t 2015 & 13  \\\\\n",
       "\t 2015 &  5  \\\\\n",
       "\t 2015 &  7  \\\\\n",
       "\t 2015 & 11  \\\\\n",
       "\t 2016 & 18  \\\\\n",
       "\t 2016 &  4  \\\\\n",
       "\t 2016 & 18  \\\\\n",
       "\t 2016 & 19  \\\\\n",
       "\t 2016 & 13  \\\\\n",
       "\t 2016 & 13  \\\\\n",
       "\\end{tabular}\n"
      ],
      "text/markdown": [
       "\n",
       "| year | count |\n",
       "|---|---|\n",
       "| 2014 |  5   |\n",
       "| 2014 |  7   |\n",
       "| 2014 | 11   |\n",
       "| 2014 | 18   |\n",
       "| 2014 |  4   |\n",
       "| 2014 | 18   |\n",
       "| 2015 | 19   |\n",
       "| 2015 | 13   |\n",
       "| 2015 | 13   |\n",
       "| 2015 |  5   |\n",
       "| 2015 |  7   |\n",
       "| 2015 | 11   |\n",
       "| 2016 | 18   |\n",
       "| 2016 |  4   |\n",
       "| 2016 | 18   |\n",
       "| 2016 | 19   |\n",
       "| 2016 | 13   |\n",
       "| 2016 | 13   |\n",
       "\n"
      ],
      "text/plain": [
       "   year count\n",
       "1  2014  5   \n",
       "2  2014  7   \n",
       "3  2014 11   \n",
       "4  2014 18   \n",
       "5  2014  4   \n",
       "6  2014 18   \n",
       "7  2015 19   \n",
       "8  2015 13   \n",
       "9  2015 13   \n",
       "10 2015  5   \n",
       "11 2015  7   \n",
       "12 2015 11   \n",
       "13 2016 18   \n",
       "14 2016  4   \n",
       "15 2016 18   \n",
       "16 2016 19   \n",
       "17 2016 13   \n",
       "18 2016 13   "
      ]
     },
     "metadata": {},
     "output_type": "display_data"
    }
   ],
   "source": [
    "d"
   ]
  },
  {
   "cell_type": "code",
   "execution_count": 156,
   "metadata": {},
   "outputs": [
    {
     "data": {
      "text/html": [
       "<table>\n",
       "<thead><tr><th scope=col>year</th><th scope=col>cv.count</th></tr></thead>\n",
       "<tbody>\n",
       "\t<tr><td>2014     </td><td>0.5985621</td></tr>\n",
       "\t<tr><td>2015     </td><td>0.4382254</td></tr>\n",
       "\t<tr><td>2016     </td><td>0.3978489</td></tr>\n",
       "</tbody>\n",
       "</table>\n"
      ],
      "text/latex": [
       "\\begin{tabular}{r|ll}\n",
       " year & cv.count\\\\\n",
       "\\hline\n",
       "\t 2014      & 0.5985621\\\\\n",
       "\t 2015      & 0.4382254\\\\\n",
       "\t 2016      & 0.3978489\\\\\n",
       "\\end{tabular}\n"
      ],
      "text/markdown": [
       "\n",
       "| year | cv.count |\n",
       "|---|---|\n",
       "| 2014      | 0.5985621 |\n",
       "| 2015      | 0.4382254 |\n",
       "| 2016      | 0.3978489 |\n",
       "\n"
      ],
      "text/plain": [
       "  year cv.count \n",
       "1 2014 0.5985621\n",
       "2 2015 0.4382254\n",
       "3 2016 0.3978489"
      ]
     },
     "metadata": {},
     "output_type": "display_data"
    }
   ],
   "source": [
    "#adply 는 행 or 컬럼 단위로 함수를 적용\n",
    "#ddply 는 vrariable에 나열한 컬럼에 따라 데이터를 나눈 뒤 함수 적용\n",
    "\n",
    "ddply(d,'year',function(x){mean.count=mean(x$count)\n",
    "                            sd.count=sd(x$count)\n",
    "                           cv=sd.count/mean.count\n",
    "                          data.frame(cv.count=cv)})\n",
    "#summarise() = 요약정보를 새로운 변수에 만드는함수\n",
    "#transform() = 연산결과를 데이터 프레임의 새로운 칼럼에 저장하는 함수"
   ]
  },
  {
   "cell_type": "code",
   "execution_count": null,
   "metadata": {},
   "outputs": [],
   "source": [
    "#데이터 테이블은 그냥 읽어버림 ㅎ~ㅎ "
   ]
  },
  {
   "cell_type": "markdown",
   "metadata": {},
   "source": [
    "## 결측값 처리와 이상값 검색"
   ]
  },
  {
   "cell_type": "code",
   "execution_count": 157,
   "metadata": {},
   "outputs": [
    {
     "data": {
      "image/png": "[encoded data removed]",
      "text/plain": [
       "plot without title"
      ]
     },
     "metadata": {},
     "output_type": "display_data"
    },
    {
     "data": {
      "image/png": "[encoded data removed]",
      "text/plain": [
       "plot without title"
      ]
     },
     "metadata": {},
     "output_type": "display_data"
    }
   ],
   "source": [
    "x<-rnorm(100)\n",
    "boxplot(x)\n",
    "x<-c(x,19,28,30)\n",
    "outwith=boxplot(x)"
   ]
  },
  {
   "cell_type": "code",
   "execution_count": 158,
   "metadata": {},
   "outputs": [
    {
     "name": "stdout",
     "output_type": "stream",
     "text": [
      "package 'outliers' successfully unpacked and MD5 sums checked\n",
      "\n",
      "The downloaded binary packages are in\n",
      "\tC:\\Users\\hhjg3\\AppData\\Local\\Temp\\RtmpEFzpYL\\downloaded_packages\n"
     ]
    }
   ],
   "source": [
    "install.packages('outliers')"
   ]
  },
  {
   "cell_type": "code",
   "execution_count": 162,
   "metadata": {},
   "outputs": [],
   "source": [
    "library(outliers)"
   ]
  },
  {
   "cell_type": "code",
   "execution_count": 165,
   "metadata": {
    "scrolled": true
   },
   "outputs": [
    {
     "data": {
      "text/html": [
       "2.54899107071786"
      ],
      "text/latex": [
       "2.54899107071786"
      ],
      "text/markdown": [
       "2.54899107071786"
      ],
      "text/plain": [
       "[1] 2.548991"
      ]
     },
     "metadata": {},
     "output_type": "display_data"
    },
    {
     "data": {
      "text/html": [
       "-2.34569770262935"
      ],
      "text/latex": [
       "-2.34569770262935"
      ],
      "text/markdown": [
       "-2.34569770262935"
      ],
      "text/plain": [
       "[1] -2.345698"
      ]
     },
     "metadata": {},
     "output_type": "display_data"
    },
    {
     "data": {
      "text/html": [
       "<ol class=list-inline>\n",
       "\t<li>2.41583517848934</li>\n",
       "\t<li>1.10229754620026</li>\n",
       "\t<li>1.64781747281506</li>\n",
       "\t<li>2.54899107071786</li>\n",
       "\t<li>2.12111710537568</li>\n",
       "</ol>\n"
      ],
      "text/latex": [
       "\\begin{enumerate*}\n",
       "\\item 2.41583517848934\n",
       "\\item 1.10229754620026\n",
       "\\item 1.64781747281506\n",
       "\\item 2.54899107071786\n",
       "\\item 2.12111710537568\n",
       "\\end{enumerate*}\n"
      ],
      "text/markdown": [
       "1. 2.41583517848934\n",
       "2. 1.10229754620026\n",
       "3. 1.64781747281506\n",
       "4. 2.54899107071786\n",
       "5. 2.12111710537568\n",
       "\n",
       "\n"
      ],
      "text/plain": [
       "[1] 2.415835 1.102298 1.647817 2.548991 2.121117"
      ]
     },
     "metadata": {},
     "output_type": "display_data"
    },
    {
     "data": {
      "image/png": "[encoded data removed]",
      "text/plain": [
       "plot without title"
      ]
     },
     "metadata": {},
     "output_type": "display_data"
    }
   ],
   "source": [
    "set.seed(1234)\n",
    "y=rnorm(100)\n",
    "outlier(y) #평균과 가장 차이가 많이 나는 값 출력\n",
    "outlier(y,opposite=TRUE) #반대방향으로 가장 차이가 많이 나는 값\n",
    "dim(y)<-c(20,5) #행20 열5 행렬생성\n",
    "outlier(y)\n",
    "boxplot(y)"
   ]
  },
  {
   "cell_type": "markdown",
   "metadata": {},
   "source": [
    "## 기초 통계 분석"
   ]
  },
  {
   "cell_type": "code",
   "execution_count": 167,
   "metadata": {
    "scrolled": false
   },
   "outputs": [
    {
     "data": {
      "text/html": [
       "<table>\n",
       "<thead><tr><th scope=col>x</th><th scope=col>y</th></tr></thead>\n",
       "<tbody>\n",
       "\t<tr><td> 2.033705</td><td> 8.127599</td></tr>\n",
       "\t<tr><td> 7.726114</td><td>25.319934</td></tr>\n",
       "\t<tr><td> 6.306590</td><td>20.871829</td></tr>\n",
       "\t<tr><td> 1.848571</td><td> 7.942608</td></tr>\n",
       "\t<tr><td>10.382233</td><td>33.118941</td></tr>\n",
       "\t<tr><td>10.378225</td><td>33.218204</td></tr>\n",
       "\t<tr><td> 1.420749</td><td> 6.458597</td></tr>\n",
       "\t<tr><td> 9.167937</td><td>29.425272</td></tr>\n",
       "\t<tr><td> 5.148204</td><td>17.236677</td></tr>\n",
       "\t<tr><td> 6.049821</td><td>20.505909</td></tr>\n",
       "</tbody>\n",
       "</table>\n"
      ],
      "text/latex": [
       "\\begin{tabular}{r|ll}\n",
       " x & y\\\\\n",
       "\\hline\n",
       "\t  2.033705 &  8.127599\\\\\n",
       "\t  7.726114 & 25.319934\\\\\n",
       "\t  6.306590 & 20.871829\\\\\n",
       "\t  1.848571 &  7.942608\\\\\n",
       "\t 10.382233 & 33.118941\\\\\n",
       "\t 10.378225 & 33.218204\\\\\n",
       "\t  1.420749 &  6.458597\\\\\n",
       "\t  9.167937 & 29.425272\\\\\n",
       "\t  5.148204 & 17.236677\\\\\n",
       "\t  6.049821 & 20.505909\\\\\n",
       "\\end{tabular}\n"
      ],
      "text/markdown": [
       "\n",
       "| x | y |\n",
       "|---|---|\n",
       "|  2.033705 |  8.127599 |\n",
       "|  7.726114 | 25.319934 |\n",
       "|  6.306590 | 20.871829 |\n",
       "|  1.848571 |  7.942608 |\n",
       "| 10.382233 | 33.118941 |\n",
       "| 10.378225 | 33.218204 |\n",
       "|  1.420749 |  6.458597 |\n",
       "|  9.167937 | 29.425272 |\n",
       "|  5.148204 | 17.236677 |\n",
       "|  6.049821 | 20.505909 |\n",
       "\n"
      ],
      "text/plain": [
       "   x         y        \n",
       "1   2.033705  8.127599\n",
       "2   7.726114 25.319934\n",
       "3   6.306590 20.871829\n",
       "4   1.848571  7.942608\n",
       "5  10.382233 33.118941\n",
       "6  10.378225 33.218204\n",
       "7   1.420749  6.458597\n",
       "8   9.167937 29.425272\n",
       "9   5.148204 17.236677\n",
       "10  6.049821 20.505909"
      ]
     },
     "metadata": {},
     "output_type": "display_data"
    },
    {
     "data": {
      "text/plain": [
       "\n",
       "Call:\n",
       "lm(formula = y ~ x, data = dfrm)\n",
       "\n",
       "Coefficients:\n",
       "(Intercept)            x  \n",
       "      2.213        2.979  \n"
      ]
     },
     "metadata": {},
     "output_type": "display_data"
    }
   ],
   "source": [
    "#회귀모형\n",
    "\n",
    "set.seed(2)\n",
    "x=runif(10,0,11) #평균 0 ,표준편차 11 연속균등분포에서 난수 10개 추출\n",
    "y=2+3*x+rnorm(10,0,0.2) #평균 0 ,표준편차 2 정규분포로부터 난수 10개 추출\n",
    "dfrm<-data.frame(x,y)\n",
    "dfrm\n",
    "\n",
    "lm(y~x,data=dfrm)# 회귀방정식은 y=2.213 + 2.979x"
   ]
  },
  {
   "cell_type": "code",
   "execution_count": 170,
   "metadata": {},
   "outputs": [
    {
     "data": {
      "text/plain": [
       "\n",
       "Call:\n",
       "lm(formula = y ~ u + v + w, data = dfrm1)\n",
       "\n",
       "Coefficients:\n",
       "(Intercept)            u            v            w  \n",
       "    3.04165      0.12317     -0.01098     -5.99782  \n"
      ]
     },
     "metadata": {},
     "output_type": "display_data"
    }
   ],
   "source": [
    "#다중 선형회귀\n",
    "set.seed(2)\n",
    "u<-runif(10,0,11)\n",
    "v<-runif(10,11,20)\n",
    "w<-runif(10,1,30)\n",
    "y=3+0.1*u+2*-3*w+rnorm(10,0,0.1)\n",
    "dfrm1<-data.frame(y,u,v,w)\n",
    "\n",
    "m<-lm(y~u+v+w,data=dfrm1)\n",
    "m"
   ]
  },
  {
   "cell_type": "code",
   "execution_count": 171,
   "metadata": {},
   "outputs": [
    {
     "data": {
      "text/plain": [
       "\n",
       "Call:\n",
       "lm(formula = y ~ u + v + w, data = dfrm1)\n",
       "\n",
       "Residuals:\n",
       "      Min        1Q    Median        3Q       Max \n",
       "-0.188562 -0.058632 -0.002013  0.080024  0.143757 \n",
       "\n",
       "Coefficients:\n",
       "             Estimate Std. Error   t value Pr(>|t|)    \n",
       "(Intercept)  3.041653   0.264808    11.486 2.62e-05 ***\n",
       "u            0.123173   0.012841     9.592 7.34e-05 ***\n",
       "v           -0.010983   0.016586    -0.662    0.532    \n",
       "w           -5.997816   0.005421 -1106.365  < 2e-16 ***\n",
       "---\n",
       "Signif. codes:  0 '***' 0.001 '**' 0.01 '*' 0.05 '.' 0.1 ' ' 1\n",
       "\n",
       "Residual standard error: 0.1303 on 6 degrees of freedom\n",
       "Multiple R-squared:      1,\tAdjusted R-squared:      1 \n",
       "F-statistic: 4.528e+05 on 3 and 6 DF,  p-value: < 2.2e-16\n"
      ]
     },
     "metadata": {},
     "output_type": "display_data"
    }
   ],
   "source": [
    "summary(m) #summary = 결정계수,F통계량,잔차의 표준오차 등 정보출력가능\n",
    "           #F통계량은 4.528e+05 p-value 2.2e-16, 유의확률이 .001보다 작다는 것을 앎 /통계적으로 유의함\n",
    "           #결정계수,수정된 결정계수 모두 1"
   ]
  },
  {
   "cell_type": "code",
   "execution_count": 172,
   "metadata": {},
   "outputs": [
    {
     "name": "stdout",
     "output_type": "stream",
     "text": [
      "package 'MASS' successfully unpacked and MD5 sums checked\n",
      "\n",
      "The downloaded binary packages are in\n",
      "\tC:\\Users\\hhjg3\\AppData\\Local\\Temp\\RtmpEFzpYL\\downloaded_packages\n"
     ]
    },
    {
     "name": "stderr",
     "output_type": "stream",
     "text": [
      "Warning message:\n",
      "\"package 'MASS' was built under R version 3.6.2\""
     ]
    }
   ],
   "source": [
    "install.packages('MASS')\n",
    "library(MASS)"
   ]
  },
  {
   "cell_type": "code",
   "execution_count": 173,
   "metadata": {},
   "outputs": [
    {
     "ename": "ERROR",
     "evalue": "Error in `[.data.frame`(ChickWeight, ChickWeight$Diet == 1): undefined columns selected\n",
     "output_type": "error",
     "traceback": [
      "Error in `[.data.frame`(ChickWeight, ChickWeight$Diet == 1): undefined columns selected\nTraceback:\n",
      "1. ChickWeight[ChickWeight$Diet == 1]",
      "2. `[.data.frame`(ChickWeight, ChickWeight$Diet == 1)",
      "3. stop(\"undefined columns selected\")"
     ]
    }
   ],
   "source": [
    "chick<-ChickWeight[ChickWeight$Diet==1.]"
   ]
  },
  {
   "cell_type": "code",
   "execution_count": null,
   "metadata": {},
   "outputs": [],
   "source": []
  },
  {
   "cell_type": "code",
   "execution_count": 198,
   "metadata": {
    "scrolled": false
   },
   "outputs": [
    {
     "data": {
      "text/plain": [
       "\n",
       "Call:\n",
       "lm(formula = weight ~ Time, data = chick)\n",
       "\n",
       "Residuals:\n",
       "    Min      1Q  Median      3Q     Max \n",
       "-78.609 -15.677  -0.324  11.069 130.391 \n",
       "\n",
       "Coefficients:\n",
       "            Estimate Std. Error t value Pr(>|t|)    \n",
       "(Intercept)  30.9310     4.0948   7.554 1.15e-12 ***\n",
       "Time          6.8418     0.3286  20.822  < 2e-16 ***\n",
       "---\n",
       "Signif. codes:  0 '***' 0.001 '**' 0.01 '*' 0.05 '.' 0.1 ' ' 1\n",
       "\n",
       "Residual standard error: 32.85 on 218 degrees of freedom\n",
       "Multiple R-squared:  0.6654,\tAdjusted R-squared:  0.6639 \n",
       "F-statistic: 433.5 on 1 and 218 DF,  p-value: < 2.2e-16\n"
      ]
     },
     "metadata": {},
     "output_type": "display_data"
    },
    {
     "data": {
      "image/png": "[encoded data removed]",
      "text/plain": [
       "Plot with title \"\""
      ]
     },
     "metadata": {},
     "output_type": "display_data"
    },
    {
     "data": {
      "image/png": "[encoded data removed]",
      "text/plain": [
       "Plot with title \"\""
      ]
     },
     "metadata": {},
     "output_type": "display_data"
    },
    {
     "data": {
      "image/png": "[encoded data removed]",
      "text/plain": [
       "Plot with title \"\""
      ]
     },
     "metadata": {},
     "output_type": "display_data"
    },
    {
     "data": {
      "image/png": "[encoded data removed]",
      "text/plain": [
       "Plot with title \"\""
      ]
     },
     "metadata": {},
     "output_type": "display_data"
    }
   ],
   "source": [
    "chick=ChickWeight[ChickWeight$Diet==1,]\n",
    "#head(chick)\n",
    "m1<-lm(weight~Time,chick)\n",
    "summary(m1)\n",
    "\n",
    "#F통계량 433.5 p값 2.2e-16 결정계수 수정결정계수 0.6654,0.6639 65%정도\n",
    "#Time 1 증가할떄마다 weight가 6.84 증가\n",
    "plot(m1)"
   ]
  },
  {
   "cell_type": "code",
   "execution_count": 197,
   "metadata": {
    "scrolled": false
   },
   "outputs": [
    {
     "data": {
      "text/plain": [
       "\n",
       "Call:\n",
       "lm(formula = dist ~ speed, data = cars)\n",
       "\n",
       "Residuals:\n",
       "    Min      1Q  Median      3Q     Max \n",
       "-29.069  -9.525  -2.272   9.215  43.201 \n",
       "\n",
       "Coefficients:\n",
       "            Estimate Std. Error t value Pr(>|t|)    \n",
       "(Intercept) -17.5791     6.7584  -2.601   0.0123 *  \n",
       "speed         3.9324     0.4155   9.464 1.49e-12 ***\n",
       "---\n",
       "Signif. codes:  0 '***' 0.001 '**' 0.01 '*' 0.05 '.' 0.1 ' ' 1\n",
       "\n",
       "Residual standard error: 15.38 on 48 degrees of freedom\n",
       "Multiple R-squared:  0.6511,\tAdjusted R-squared:  0.6438 \n",
       "F-statistic: 89.57 on 1 and 48 DF,  p-value: 1.49e-12\n"
      ]
     },
     "metadata": {},
     "output_type": "display_data"
    },
    {
     "data": {
      "image/png": "[encoded data removed]",
      "text/plain": [
       "Plot with title \"\""
      ]
     },
     "metadata": {},
     "output_type": "display_data"
    },
    {
     "data": {
      "image/png": "[encoded data removed]",
      "text/plain": [
       "Plot with title \"\""
      ]
     },
     "metadata": {},
     "output_type": "display_data"
    },
    {
     "data": {
      "image/png": "[encoded data removed]",
      "text/plain": [
       "Plot with title \"\""
      ]
     },
     "metadata": {},
     "output_type": "display_data"
    },
    {
     "data": {
      "image/png": "[encoded data removed]",
      "text/plain": [
       "Plot with title \"\""
      ]
     },
     "metadata": {},
     "output_type": "display_data"
    }
   ],
   "source": [
    "data(cars)\n",
    "m<-lm(dist~speed,cars)\n",
    "summary(m)\n",
    "plot(m)"
   ]
  },
  {
   "cell_type": "code",
   "execution_count": 200,
   "metadata": {},
   "outputs": [
    {
     "ename": "ERROR",
     "evalue": "Error in `[.data.frame`(iris, iris$Sepal.Length): undefined columns selected\n",
     "output_type": "error",
     "traceback": [
      "Error in `[.data.frame`(iris, iris$Sepal.Length): undefined columns selected\nTraceback:\n",
      "1. iris[iris$Sepal.Length]",
      "2. `[.data.frame`(iris, iris$Sepal.Length)",
      "3. stop(\"undefined columns selected\")"
     ]
    }
   ],
   "source": [
    "a=iris[iris$Sepal.Length]\n"
   ]
  },
  {
   "cell_type": "code",
   "execution_count": 201,
   "metadata": {},
   "outputs": [
    {
     "data": {
      "text/html": [
       "<table>\n",
       "<thead><tr><th scope=col>Sepal.Length</th><th scope=col>Sepal.Width</th><th scope=col>Petal.Length</th><th scope=col>Petal.Width</th><th scope=col>Species</th></tr></thead>\n",
       "<tbody>\n",
       "\t<tr><td>5.1   </td><td>3.5   </td><td>1.4   </td><td>0.2   </td><td>setosa</td></tr>\n",
       "\t<tr><td>4.9   </td><td>3.0   </td><td>1.4   </td><td>0.2   </td><td>setosa</td></tr>\n",
       "\t<tr><td>4.7   </td><td>3.2   </td><td>1.3   </td><td>0.2   </td><td>setosa</td></tr>\n",
       "\t<tr><td>4.6   </td><td>3.1   </td><td>1.5   </td><td>0.2   </td><td>setosa</td></tr>\n",
       "\t<tr><td>5.0   </td><td>3.6   </td><td>1.4   </td><td>0.2   </td><td>setosa</td></tr>\n",
       "\t<tr><td>5.4   </td><td>3.9   </td><td>1.7   </td><td>0.4   </td><td>setosa</td></tr>\n",
       "</tbody>\n",
       "</table>\n"
      ],
      "text/latex": [
       "\\begin{tabular}{r|lllll}\n",
       " Sepal.Length & Sepal.Width & Petal.Length & Petal.Width & Species\\\\\n",
       "\\hline\n",
       "\t 5.1    & 3.5    & 1.4    & 0.2    & setosa\\\\\n",
       "\t 4.9    & 3.0    & 1.4    & 0.2    & setosa\\\\\n",
       "\t 4.7    & 3.2    & 1.3    & 0.2    & setosa\\\\\n",
       "\t 4.6    & 3.1    & 1.5    & 0.2    & setosa\\\\\n",
       "\t 5.0    & 3.6    & 1.4    & 0.2    & setosa\\\\\n",
       "\t 5.4    & 3.9    & 1.7    & 0.4    & setosa\\\\\n",
       "\\end{tabular}\n"
      ],
      "text/markdown": [
       "\n",
       "| Sepal.Length | Sepal.Width | Petal.Length | Petal.Width | Species |\n",
       "|---|---|---|---|---|\n",
       "| 5.1    | 3.5    | 1.4    | 0.2    | setosa |\n",
       "| 4.9    | 3.0    | 1.4    | 0.2    | setosa |\n",
       "| 4.7    | 3.2    | 1.3    | 0.2    | setosa |\n",
       "| 4.6    | 3.1    | 1.5    | 0.2    | setosa |\n",
       "| 5.0    | 3.6    | 1.4    | 0.2    | setosa |\n",
       "| 5.4    | 3.9    | 1.7    | 0.4    | setosa |\n",
       "\n"
      ],
      "text/plain": [
       "  Sepal.Length Sepal.Width Petal.Length Petal.Width Species\n",
       "1 5.1          3.5         1.4          0.2         setosa \n",
       "2 4.9          3.0         1.4          0.2         setosa \n",
       "3 4.7          3.2         1.3          0.2         setosa \n",
       "4 4.6          3.1         1.5          0.2         setosa \n",
       "5 5.0          3.6         1.4          0.2         setosa \n",
       "6 5.4          3.9         1.7          0.4         setosa "
      ]
     },
     "metadata": {},
     "output_type": "display_data"
    }
   ],
   "source": [
    "head(iris)"
   ]
  },
  {
   "cell_type": "code",
   "execution_count": 212,
   "metadata": {},
   "outputs": [
    {
     "name": "stderr",
     "output_type": "stream",
     "text": [
      "Warning message in cor.test.default(a, b, method = \"spearman\"):\n",
      "\"Cannot compute exact p-value with ties\""
     ]
    },
    {
     "data": {
      "text/plain": [
       "\n",
       "\tSpearman's rank correlation rho\n",
       "\n",
       "data:  a and b\n",
       "S = 656283, p-value = 0.04137\n",
       "alternative hypothesis: true rho is not equal to 0\n",
       "sample estimates:\n",
       "       rho \n",
       "-0.1667777 \n"
      ]
     },
     "metadata": {},
     "output_type": "display_data"
    }
   ],
   "source": [
    "a=iris$Sepal.Length\n",
    "b=iris$Sepal.Width\n",
    "cor.test(a,b,method='spearman')"
   ]
  },
  {
   "cell_type": "code",
   "execution_count": 216,
   "metadata": {},
   "outputs": [
    {
     "data": {
      "image/png": "[encoded data removed]",
      "text/plain": [
       "plot without title"
      ]
     },
     "metadata": {},
     "output_type": "display_data"
    }
   ],
   "source": [
    "loc<-cmdscale(eurodist)\n",
    "x<-loc[,1]\n",
    "y<-loc[,2]\n",
    "plot(x,y,type='n')#type=n 그래프 유형으로 아무것도 그리지 않음\n",
    "text(x,y,rownames(loc),cex=.8,col='red') #text() 그래프에 문자열 그리는데 사용\n",
    "abline(v=0,h=0)"
   ]
  },
  {
   "cell_type": "code",
   "execution_count": null,
   "metadata": {},
   "outputs": [],
   "source": []
  },
  {
   "cell_type": "code",
   "execution_count": null,
   "metadata": {},
   "outputs": [],
   "source": []
  }
 ],
 "metadata": {
  "kernelspec": {
   "display_name": "R",
   "language": "R",
   "name": "ir"
  },
  "language_info": {
   "codemirror_mode": "r",
   "file_extension": ".r",
   "mimetype": "text/x-r-source",
   "name": "R",
   "pygments_lexer": "r",
   "version": "3.6.1"
  }
 },
 "nbformat": 4,
 "nbformat_minor": 2
}
