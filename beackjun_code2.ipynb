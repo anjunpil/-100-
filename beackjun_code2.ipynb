{
  "nbformat": 4,
  "nbformat_minor": 0,
  "metadata": {
    "colab": {
      "name": "beackjun code2.ipynb",
      "provenance": [],
      "collapsed_sections": [],
      "authorship_tag": "ABX9TyOZRfhV2I4+4S1K2BEWGTQS",
      "include_colab_link": true
    },
    "kernelspec": {
      "name": "python3",
      "display_name": "Python 3"
    }
  },
  "cells": [
    {
      "cell_type": "markdown",
      "metadata": {
        "id": "view-in-github",
        "colab_type": "text"
      },
      "source": [
        "<a href=\"https://colab.research.google.com/github/anjunpil/study/blob/master/beackjun_code2.ipynb\" target=\"_parent\"><img src=\"https://colab.research.google.com/assets/colab-badge.svg\" alt=\"Open In Colab\"/></a>"
      ]
    },
    {
      "cell_type": "markdown",
      "metadata": {
        "id": "NG7wIyII0v72",
        "colab_type": "text"
      },
      "source": [
        "# 동적 프로그래밍(DP)\n"
      ]
    },
    {
      "cell_type": "code",
      "metadata": {
        "id": "tDJx9GxU5R35",
        "colab_type": "code",
        "outputId": "dffea004-7e70-48b3-a1e1-20054a5f9276",
        "colab": {
          "base_uri": "https://localhost:8080/",
          "height": 55
        }
      },
      "source": [
        "#1643\n",
        "a=int(input())\n",
        "count=0\n",
        "for i in range(a):\n",
        "  if a%3==0:\n",
        "    a/=3\n",
        "    count+=1\n",
        "  elif a%2==0:\n",
        "    a/=2\n",
        "    count+=1\n",
        "  else:mm\n",
        "    a-=1\n",
        "    count+=1\n",
        "  \n",
        "  if a==1:\n",
        "    break\n",
        "    \n",
        "print(count)"
      ],
      "execution_count": 0,
      "outputs": [
        {
          "output_type": "stream",
          "text": [
            "10\n",
            "4\n"
          ],
          "name": "stdout"
        }
      ]
    },
    {
      "cell_type": "code",
      "metadata": {
        "id": "seNi4DtZQszS",
        "colab_type": "code",
        "colab": {}
      },
      "source": [
        "x= int(input())\n",
        "dp=[x]\n",
        "cnt=0\n",
        "\n",
        "while(True):\n",
        "  if (1 in dp):\n",
        "    print(cnt)\n",
        "    break\n",
        "  calc=[]\n",
        "  for i in dp:\n",
        "    if i%2 == 0 :\n",
        "      calc.append(i/2)\n",
        "    if i%3 == 0:\n",
        "      calc.append(i/3)\n",
        "    calc.append(i-1)\n",
        "  dp = calc\n",
        "\n",
        "  cnt+=1"
      ],
      "execution_count": 0,
      "outputs": []
    },
    {
      "cell_type": "code",
      "metadata": {
        "id": "_doenXSQRcL2",
        "colab_type": "code",
        "outputId": "3bc80854-1a80-41a7-9c9c-7d9b34a78af3",
        "colab": {
          "base_uri": "https://localhost:8080/",
          "height": 36
        }
      },
      "source": [
        "N = int(input())\n",
        "\n",
        "result = [0 for _ in range(N + 1)]\n",
        "\n",
        "for i in range(1, N + 1):\n",
        "    if i == 1:\n",
        "        result[i] = 0\n",
        "        continue\n",
        "    result[i] = result[i-1] + 1\n",
        "    if i % 3 == 0 and result[i//3] + 1 < result[i]:\n",
        "        result[i] = result[i//3] + 1\n",
        "    if i % 2 == 0 and result[i//2] + 1< result[i]:\n",
        "        result[i] = result[i//2] + 1\n",
        "        \n",
        "print(result[N])"
      ],
      "execution_count": 0,
      "outputs": [
        {
          "output_type": "execute_result",
          "data": {
            "text/plain": [
              "[0, 0, 0, 0, 0, 0, 0, 0, 0, 0]"
            ]
          },
          "metadata": {
            "tags": []
          },
          "execution_count": 131
        }
      ]
    },
    {
      "cell_type": "code",
      "metadata": {
        "id": "W5Pmhu_g6_XC",
        "colab_type": "code",
        "outputId": "275833fb-db18-468f-e841-ba973f91f414",
        "colab": {
          "base_uri": "https://localhost:8080/",
          "height": 204
        }
      },
      "source": [
        "n= int(input())+1\n",
        "d=[0]*n\n",
        "for i in range(2,n):\n",
        "  d[i]="
      ],
      "execution_count": 0,
      "outputs": [
        {
          "output_type": "stream",
          "text": [
            "0\n",
            "0\n",
            "0\n",
            "0\n",
            "0\n",
            "0\n",
            "0\n",
            "0\n",
            "0\n",
            "0\n"
          ],
          "name": "stdout"
        }
      ]
    },
    {
      "cell_type": "code",
      "metadata": {
        "id": "_oRuGosUDmLd",
        "colab_type": "code",
        "colab": {}
      },
      "source": [
        "#9095 동적계획법\n",
        "a=int(input())\n",
        "b=[]\n",
        "\n",
        "c=[1,2,4]\n",
        "for i in range(4,11):\n",
        "  c.append(sum(c[-3:]))\n",
        "for i in range(a):\n",
        "  b.append(int(input()))\n",
        "for i in range(a):\n",
        "  print(c[b[i]-1])"
      ],
      "execution_count": 0,
      "outputs": []
    },
    {
      "cell_type": "code",
      "metadata": {
        "id": "Wk5QKGqWNF_i",
        "colab_type": "code",
        "colab": {}
      },
      "source": [
        "c=[1,2,4]\n",
        "for i in range(4,11):\n",
        "  c.append(sum(c[-3:]))\n",
        "for j in range(int(input())):\n",
        "  d=input()\n",
        "  print(c[int(d)-1])"
      ],
      "execution_count": 0,
      "outputs": []
    },
    {
      "cell_type": "code",
      "metadata": {
        "id": "32krA_T_mK91",
        "colab_type": "code",
        "outputId": "2c500133-cca3-431a-afcc-6d0494f9e671",
        "colab": {
          "base_uri": "https://localhost:8080/",
          "height": 223
        }
      },
      "source": [
        "#1003\n",
        "import sys\n",
        "n=int(input())\n",
        "\n",
        "#n=input()\n",
        "a=[1,0,1]\n",
        "b=[0,1]\n",
        "for i in range(1,n):\n",
        "  a.append(sum(a[-2:]))\n",
        "\n",
        "\n",
        "for j in range(n):\n",
        "  b.append(sum(b[-2:]))\n",
        "for i in range(n):\n",
        "  c=int(input())\n",
        "  print('{0} {1}'.format(a[-1],b[-2]))\n"
      ],
      "execution_count": 0,
      "outputs": [
        {
          "output_type": "stream",
          "text": [
            "5\n",
            "0\n",
            "5 5\n",
            "2\n",
            "5 5\n",
            "3\n",
            "5 5\n",
            "4\n",
            "5 5\n",
            "5\n",
            "5 5\n"
          ],
          "name": "stdout"
        }
      ]
    },
    {
      "cell_type": "code",
      "metadata": {
        "id": "jekzuqOWnJeE",
        "colab_type": "code",
        "outputId": "4848439d-a762-4bb8-cabf-4f77a01887a6",
        "colab": {
          "base_uri": "https://localhost:8080/",
          "height": 223
        }
      },
      "source": [
        "\n",
        "import sys\n",
        "e=int(input())\n",
        "\n",
        "a=[1,0,1]\n",
        "b=[0,1]\n",
        "for i in range(1,41):\n",
        "  a.append(sum(a[-2:]))\n",
        "for i in range(41):\n",
        "  b.append(sum(b[-2:]))\n",
        "\n",
        "for i in range(e):\n",
        "  d=int(input())\n",
        "  print(a[d],b[d])\n"
      ],
      "execution_count": 0,
      "outputs": [
        {
          "output_type": "stream",
          "text": [
            "5\n",
            "0\n",
            "1 0\n",
            "1\n",
            "0 1\n",
            "2\n",
            "1 1\n",
            "3\n",
            "1 2\n",
            "4\n",
            "2 3\n"
          ],
          "name": "stdout"
        }
      ]
    },
    {
      "cell_type": "code",
      "metadata": {
        "id": "YNQLYjC9pK7i",
        "colab_type": "code",
        "outputId": "d6844651-3668-4d4f-e090-42b72bc4a193",
        "colab": {
          "base_uri": "https://localhost:8080/",
          "height": 148
        }
      },
      "source": [
        "\n",
        "import sys\n",
        "e=int(input())\n",
        "a=[1,0,1]\n",
        "b=[0,1]\n",
        "\n",
        "for i in range(e):\n",
        "\n",
        "  d=int(input())\n",
        "  \n",
        "  for i in range(1,):\n",
        "    a.append(sum(a[-2:]))\n",
        "  for i in range(d):\n",
        "    b.append(sum(b[-2:]))\n",
        "  print(a[-1],b[-1])\n"
      ],
      "execution_count": 0,
      "outputs": [
        {
          "output_type": "stream",
          "text": [
            "3\n",
            "2\n",
            "1 2\n",
            "3\n",
            "2 8\n",
            "4\n",
            "3 55\n"
          ],
          "name": "stdout"
        }
      ]
    },
    {
      "cell_type": "code",
      "metadata": {
        "id": "R5qkhUdfmLYf",
        "colab_type": "code",
        "outputId": "c73e3bbf-8b16-4060-fcea-ce0fcd54ecb2",
        "colab": {
          "base_uri": "https://localhost:8080/",
          "height": 55
        }
      },
      "source": [
        "#11726\n",
        "b=int(input())\n",
        "a=[1,2]\n",
        "for i in range(10):\n",
        "  a.append(sum(a[-2:]))\n",
        "print(a[b-1])\n"
      ],
      "execution_count": 0,
      "outputs": [
        {
          "output_type": "stream",
          "text": [
            "9\n",
            "55\n"
          ],
          "name": "stdout"
        }
      ]
    },
    {
      "cell_type": "code",
      "metadata": {
        "id": "MXuD2R1eGmWm",
        "colab_type": "code",
        "outputId": "f25dd20e-792b-401f-b3d2-2cde8c1f5227",
        "colab": {
          "base_uri": "https://localhost:8080/",
          "height": 593
        }
      },
      "source": [
        "#1149\n",
        "n=3\n",
        "for i in range(3):\n",
        "  R,G,B=list(map(int,input().split()))\n",
        "  "
      ],
      "execution_count": 0,
      "outputs": [
        {
          "output_type": "error",
          "ename": "KeyboardInterrupt",
          "evalue": "ignored",
          "traceback": [
            "\u001b[0;31m---------------------------------------------------------------------------\u001b[0m",
            "\u001b[0;31mKeyboardInterrupt\u001b[0m                         Traceback (most recent call last)",
            "\u001b[0;32m/usr/local/lib/python3.6/dist-packages/ipykernel/kernelbase.py\u001b[0m in \u001b[0;36m_input_request\u001b[0;34m(self, prompt, ident, parent, password)\u001b[0m\n\u001b[1;32m    729\u001b[0m             \u001b[0;32mtry\u001b[0m\u001b[0;34m:\u001b[0m\u001b[0;34m\u001b[0m\u001b[0;34m\u001b[0m\u001b[0m\n\u001b[0;32m--> 730\u001b[0;31m                 \u001b[0mident\u001b[0m\u001b[0;34m,\u001b[0m \u001b[0mreply\u001b[0m \u001b[0;34m=\u001b[0m \u001b[0mself\u001b[0m\u001b[0;34m.\u001b[0m\u001b[0msession\u001b[0m\u001b[0;34m.\u001b[0m\u001b[0mrecv\u001b[0m\u001b[0;34m(\u001b[0m\u001b[0mself\u001b[0m\u001b[0;34m.\u001b[0m\u001b[0mstdin_socket\u001b[0m\u001b[0;34m,\u001b[0m \u001b[0;36m0\u001b[0m\u001b[0;34m)\u001b[0m\u001b[0;34m\u001b[0m\u001b[0;34m\u001b[0m\u001b[0m\n\u001b[0m\u001b[1;32m    731\u001b[0m             \u001b[0;32mexcept\u001b[0m \u001b[0mException\u001b[0m\u001b[0;34m:\u001b[0m\u001b[0;34m\u001b[0m\u001b[0;34m\u001b[0m\u001b[0m\n",
            "\u001b[0;32m/usr/local/lib/python3.6/dist-packages/jupyter_client/session.py\u001b[0m in \u001b[0;36mrecv\u001b[0;34m(self, socket, mode, content, copy)\u001b[0m\n\u001b[1;32m    802\u001b[0m         \u001b[0;32mtry\u001b[0m\u001b[0;34m:\u001b[0m\u001b[0;34m\u001b[0m\u001b[0;34m\u001b[0m\u001b[0m\n\u001b[0;32m--> 803\u001b[0;31m             \u001b[0mmsg_list\u001b[0m \u001b[0;34m=\u001b[0m \u001b[0msocket\u001b[0m\u001b[0;34m.\u001b[0m\u001b[0mrecv_multipart\u001b[0m\u001b[0;34m(\u001b[0m\u001b[0mmode\u001b[0m\u001b[0;34m,\u001b[0m \u001b[0mcopy\u001b[0m\u001b[0;34m=\u001b[0m\u001b[0mcopy\u001b[0m\u001b[0;34m)\u001b[0m\u001b[0;34m\u001b[0m\u001b[0;34m\u001b[0m\u001b[0m\n\u001b[0m\u001b[1;32m    804\u001b[0m         \u001b[0;32mexcept\u001b[0m \u001b[0mzmq\u001b[0m\u001b[0;34m.\u001b[0m\u001b[0mZMQError\u001b[0m \u001b[0;32mas\u001b[0m \u001b[0me\u001b[0m\u001b[0;34m:\u001b[0m\u001b[0;34m\u001b[0m\u001b[0;34m\u001b[0m\u001b[0m\n",
            "\u001b[0;32m/usr/local/lib/python3.6/dist-packages/zmq/sugar/socket.py\u001b[0m in \u001b[0;36mrecv_multipart\u001b[0;34m(self, flags, copy, track)\u001b[0m\n\u001b[1;32m    465\u001b[0m         \"\"\"\n\u001b[0;32m--> 466\u001b[0;31m         \u001b[0mparts\u001b[0m \u001b[0;34m=\u001b[0m \u001b[0;34m[\u001b[0m\u001b[0mself\u001b[0m\u001b[0;34m.\u001b[0m\u001b[0mrecv\u001b[0m\u001b[0;34m(\u001b[0m\u001b[0mflags\u001b[0m\u001b[0;34m,\u001b[0m \u001b[0mcopy\u001b[0m\u001b[0;34m=\u001b[0m\u001b[0mcopy\u001b[0m\u001b[0;34m,\u001b[0m \u001b[0mtrack\u001b[0m\u001b[0;34m=\u001b[0m\u001b[0mtrack\u001b[0m\u001b[0;34m)\u001b[0m\u001b[0;34m]\u001b[0m\u001b[0;34m\u001b[0m\u001b[0;34m\u001b[0m\u001b[0m\n\u001b[0m\u001b[1;32m    467\u001b[0m         \u001b[0;31m# have first part already, only loop while more to receive\u001b[0m\u001b[0;34m\u001b[0m\u001b[0;34m\u001b[0m\u001b[0;34m\u001b[0m\u001b[0m\n",
            "\u001b[0;32mzmq/backend/cython/socket.pyx\u001b[0m in \u001b[0;36mzmq.backend.cython.socket.Socket.recv\u001b[0;34m()\u001b[0m\n",
            "\u001b[0;32mzmq/backend/cython/socket.pyx\u001b[0m in \u001b[0;36mzmq.backend.cython.socket.Socket.recv\u001b[0;34m()\u001b[0m\n",
            "\u001b[0;32mzmq/backend/cython/socket.pyx\u001b[0m in \u001b[0;36mzmq.backend.cython.socket._recv_copy\u001b[0;34m()\u001b[0m\n",
            "\u001b[0;32m/usr/local/lib/python3.6/dist-packages/zmq/backend/cython/checkrc.pxd\u001b[0m in \u001b[0;36mzmq.backend.cython.checkrc._check_rc\u001b[0;34m()\u001b[0m\n",
            "\u001b[0;31mKeyboardInterrupt\u001b[0m: ",
            "\nDuring handling of the above exception, another exception occurred:\n",
            "\u001b[0;31mKeyboardInterrupt\u001b[0m                         Traceback (most recent call last)",
            "\u001b[0;32m<ipython-input-2-99711e9098c7>\u001b[0m in \u001b[0;36m<module>\u001b[0;34m()\u001b[0m\n\u001b[1;32m      1\u001b[0m \u001b[0mn\u001b[0m\u001b[0;34m=\u001b[0m\u001b[0;36m3\u001b[0m\u001b[0;34m\u001b[0m\u001b[0;34m\u001b[0m\u001b[0m\n\u001b[1;32m      2\u001b[0m \u001b[0;32mfor\u001b[0m \u001b[0mi\u001b[0m \u001b[0;32min\u001b[0m \u001b[0mrange\u001b[0m\u001b[0;34m(\u001b[0m\u001b[0;36m3\u001b[0m\u001b[0;34m)\u001b[0m\u001b[0;34m:\u001b[0m\u001b[0;34m\u001b[0m\u001b[0;34m\u001b[0m\u001b[0m\n\u001b[0;32m----> 3\u001b[0;31m   \u001b[0mR\u001b[0m\u001b[0;34m,\u001b[0m\u001b[0mG\u001b[0m\u001b[0;34m,\u001b[0m\u001b[0mB\u001b[0m\u001b[0;34m=\u001b[0m\u001b[0mlist\u001b[0m\u001b[0;34m(\u001b[0m\u001b[0mmap\u001b[0m\u001b[0;34m(\u001b[0m\u001b[0mint\u001b[0m\u001b[0;34m,\u001b[0m\u001b[0minput\u001b[0m\u001b[0;34m(\u001b[0m\u001b[0;34m)\u001b[0m\u001b[0;34m.\u001b[0m\u001b[0msplit\u001b[0m\u001b[0;34m(\u001b[0m\u001b[0;34m)\u001b[0m\u001b[0;34m)\u001b[0m\u001b[0;34m)\u001b[0m\u001b[0;34m\u001b[0m\u001b[0;34m\u001b[0m\u001b[0m\n\u001b[0m\u001b[1;32m      4\u001b[0m \u001b[0;34m\u001b[0m\u001b[0m\n",
            "\u001b[0;32m/usr/local/lib/python3.6/dist-packages/ipykernel/kernelbase.py\u001b[0m in \u001b[0;36mraw_input\u001b[0;34m(self, prompt)\u001b[0m\n\u001b[1;32m    703\u001b[0m             \u001b[0mself\u001b[0m\u001b[0;34m.\u001b[0m\u001b[0m_parent_ident\u001b[0m\u001b[0;34m,\u001b[0m\u001b[0;34m\u001b[0m\u001b[0;34m\u001b[0m\u001b[0m\n\u001b[1;32m    704\u001b[0m             \u001b[0mself\u001b[0m\u001b[0;34m.\u001b[0m\u001b[0m_parent_header\u001b[0m\u001b[0;34m,\u001b[0m\u001b[0;34m\u001b[0m\u001b[0;34m\u001b[0m\u001b[0m\n\u001b[0;32m--> 705\u001b[0;31m             \u001b[0mpassword\u001b[0m\u001b[0;34m=\u001b[0m\u001b[0;32mFalse\u001b[0m\u001b[0;34m,\u001b[0m\u001b[0;34m\u001b[0m\u001b[0;34m\u001b[0m\u001b[0m\n\u001b[0m\u001b[1;32m    706\u001b[0m         )\n\u001b[1;32m    707\u001b[0m \u001b[0;34m\u001b[0m\u001b[0m\n",
            "\u001b[0;32m/usr/local/lib/python3.6/dist-packages/ipykernel/kernelbase.py\u001b[0m in \u001b[0;36m_input_request\u001b[0;34m(self, prompt, ident, parent, password)\u001b[0m\n\u001b[1;32m    733\u001b[0m             \u001b[0;32mexcept\u001b[0m \u001b[0mKeyboardInterrupt\u001b[0m\u001b[0;34m:\u001b[0m\u001b[0;34m\u001b[0m\u001b[0;34m\u001b[0m\u001b[0m\n\u001b[1;32m    734\u001b[0m                 \u001b[0;31m# re-raise KeyboardInterrupt, to truncate traceback\u001b[0m\u001b[0;34m\u001b[0m\u001b[0;34m\u001b[0m\u001b[0;34m\u001b[0m\u001b[0m\n\u001b[0;32m--> 735\u001b[0;31m                 \u001b[0;32mraise\u001b[0m \u001b[0mKeyboardInterrupt\u001b[0m\u001b[0;34m\u001b[0m\u001b[0;34m\u001b[0m\u001b[0m\n\u001b[0m\u001b[1;32m    736\u001b[0m             \u001b[0;32melse\u001b[0m\u001b[0;34m:\u001b[0m\u001b[0;34m\u001b[0m\u001b[0;34m\u001b[0m\u001b[0m\n\u001b[1;32m    737\u001b[0m                 \u001b[0;32mbreak\u001b[0m\u001b[0;34m\u001b[0m\u001b[0;34m\u001b[0m\u001b[0m\n",
            "\u001b[0;31mKeyboardInterrupt\u001b[0m: "
          ]
        }
      ]
    },
    {
      "cell_type": "code",
      "metadata": {
        "id": "Yr0XTm6GIDGq",
        "colab_type": "code",
        "outputId": "af60f55d-5323-4ddf-c2d1-93810b1195bb",
        "colab": {
          "base_uri": "https://localhost:8080/",
          "height": 129
        }
      },
      "source": [
        "\n",
        "c=[]\n",
        "for i in range(3):\n",
        "  \n",
        "  b=list(map(int,input().split()))\n",
        "  c.append(b)\n",
        "  print(b)"
      ],
      "execution_count": 0,
      "outputs": [
        {
          "output_type": "stream",
          "text": [
            "26 40 83\n",
            "[26, 40, 83]\n",
            "49 60 57\n",
            "[49, 60, 57]\n",
            "13 89 99\n",
            "[13, 89, 99]\n"
          ],
          "name": "stdout"
        }
      ]
    },
    {
      "cell_type": "code",
      "metadata": {
        "id": "Tln3IKuJKF9s",
        "colab_type": "code",
        "outputId": "7e035a52-3c61-496a-abd3-4f3f0878a2f0",
        "colab": {
          "base_uri": "https://localhost:8080/",
          "height": 92
        }
      },
      "source": [
        "n = int(input())\n",
        "p = []\n",
        "for i in range(n):\n",
        "    p.append(list(map(int, input().split())))\n",
        "for i in range(1, len(p)):\n",
        "    p[i][0] = min(p[i - 1][1], p[i - 1][2]) + p[i][0]\n",
        "    p[i][1] = min(p[i - 1][0], p[i - 1][2]) + p[i][1]\n",
        "    p[i][2] = min(p[i - 1][0], p[i - 1][1]) + p[i][2]\n"
      ],
      "execution_count": 0,
      "outputs": [
        {
          "output_type": "stream",
          "text": [
            "3\n",
            "26 40 83\n",
            "49 60 57\n",
            "13 89 99\n"
          ],
          "name": "stdout"
        }
      ]
    },
    {
      "cell_type": "code",
      "metadata": {
        "id": "CWoGxfvCQI2Q",
        "colab_type": "code",
        "outputId": "5ef35df2-364a-49f5-f663-991f77d789c5",
        "colab": {
          "base_uri": "https://localhost:8080/",
          "height": 111
        }
      },
      "source": [
        "a= int(input())\n",
        "c=[]\n",
        "for i in range(a):\n",
        "  b=list(map(int,input().split()))\n",
        "  c.append(b)\n",
        "\n",
        "for i in range(1,len(c)):\n",
        "  c[i][0] = min(c[i-1][2],c[i-1][1])+c[i][0]\n",
        "  c[i][1] = min(c[i-1][2],c[i-1][0])+c[i][1]\n",
        "  c[i][2] = min(c[i-1][0],c[i-1][1])+c[i][2]\n",
        "\n",
        "print(min(c[-1]))"
      ],
      "execution_count": 0,
      "outputs": [
        {
          "output_type": "stream",
          "text": [
            "3\n",
            "26 40 83\n",
            "29 60 57\n",
            "13 89 99\n",
            "96\n"
          ],
          "name": "stdout"
        }
      ]
    },
    {
      "cell_type": "code",
      "metadata": {
        "id": "qMns0M_GZsZe",
        "colab_type": "code",
        "outputId": "7637238a-26d6-494c-9d7e-29d2d7344c32",
        "colab": {
          "base_uri": "https://localhost:8080/",
          "height": 148
        }
      },
      "source": [
        "#2579\n",
        "a=int(input())\n",
        "b=[]\n",
        "for i in range(a):\n",
        "  b.append(int(input()))"
      ],
      "execution_count": 0,
      "outputs": [
        {
          "output_type": "stream",
          "text": [
            "6\n",
            "10\n",
            "20\n",
            "15\n",
            "25\n",
            "10\n",
            "20\n"
          ],
          "name": "stdout"
        }
      ]
    },
    {
      "cell_type": "code",
      "metadata": {
        "id": "-OW35f-3d8oj",
        "colab_type": "code",
        "colab": {}
      },
      "source": [
        "b=[10,20,15,25,10,20]"
      ],
      "execution_count": 0,
      "outputs": []
    },
    {
      "cell_type": "code",
      "metadata": {
        "id": "95IrysAscwOn",
        "colab_type": "code",
        "outputId": "ef507b3b-fce8-4c83-a3f3-0640521eadf3",
        "colab": {
          "base_uri": "https://localhost:8080/",
          "height": 288
        }
      },
      "source": [
        "for j in range(1,len(b)):\n",
        "    b[j-1]=max(b[j],b[j+1])+b[j-1]\n",
        "    if \n",
        "    print(b[j-1])"
      ],
      "execution_count": 0,
      "outputs": [
        {
          "output_type": "stream",
          "text": [
            "30\n",
            "45\n",
            "40\n",
            "45\n"
          ],
          "name": "stdout"
        },
        {
          "output_type": "error",
          "ename": "IndexError",
          "evalue": "ignored",
          "traceback": [
            "\u001b[0;31m---------------------------------------------------------------------------\u001b[0m",
            "\u001b[0;31mIndexError\u001b[0m                                Traceback (most recent call last)",
            "\u001b[0;32m<ipython-input-97-510de71fc4cf>\u001b[0m in \u001b[0;36m<module>\u001b[0;34m()\u001b[0m\n\u001b[1;32m      1\u001b[0m \u001b[0;32mfor\u001b[0m \u001b[0mj\u001b[0m \u001b[0;32min\u001b[0m \u001b[0mrange\u001b[0m\u001b[0;34m(\u001b[0m\u001b[0;36m1\u001b[0m\u001b[0;34m,\u001b[0m\u001b[0mlen\u001b[0m\u001b[0;34m(\u001b[0m\u001b[0mb\u001b[0m\u001b[0;34m)\u001b[0m\u001b[0;34m)\u001b[0m\u001b[0;34m:\u001b[0m\u001b[0;34m\u001b[0m\u001b[0;34m\u001b[0m\u001b[0m\n\u001b[0;32m----> 2\u001b[0;31m     \u001b[0mb\u001b[0m\u001b[0;34m[\u001b[0m\u001b[0mj\u001b[0m\u001b[0;34m-\u001b[0m\u001b[0;36m1\u001b[0m\u001b[0;34m]\u001b[0m\u001b[0;34m=\u001b[0m\u001b[0mmax\u001b[0m\u001b[0;34m(\u001b[0m\u001b[0mb\u001b[0m\u001b[0;34m[\u001b[0m\u001b[0mj\u001b[0m\u001b[0;34m]\u001b[0m\u001b[0;34m,\u001b[0m\u001b[0mb\u001b[0m\u001b[0;34m[\u001b[0m\u001b[0mj\u001b[0m\u001b[0;34m+\u001b[0m\u001b[0;36m1\u001b[0m\u001b[0;34m]\u001b[0m\u001b[0;34m)\u001b[0m\u001b[0;34m+\u001b[0m\u001b[0mb\u001b[0m\u001b[0;34m[\u001b[0m\u001b[0mj\u001b[0m\u001b[0;34m-\u001b[0m\u001b[0;36m1\u001b[0m\u001b[0;34m]\u001b[0m\u001b[0;34m\u001b[0m\u001b[0;34m\u001b[0m\u001b[0m\n\u001b[0m\u001b[1;32m      3\u001b[0m     \u001b[0mprint\u001b[0m\u001b[0;34m(\u001b[0m\u001b[0mb\u001b[0m\u001b[0;34m[\u001b[0m\u001b[0mj\u001b[0m\u001b[0;34m-\u001b[0m\u001b[0;36m1\u001b[0m\u001b[0;34m]\u001b[0m\u001b[0;34m)\u001b[0m\u001b[0;34m\u001b[0m\u001b[0;34m\u001b[0m\u001b[0m\n",
            "\u001b[0;31mIndexError\u001b[0m: list index out of range"
          ]
        }
      ]
    },
    {
      "cell_type": "code",
      "metadata": {
        "id": "q2GYNbJYuo1b",
        "colab_type": "code",
        "colab": {}
      },
      "source": [
        "a=sorted(list(map(int,input().split())))"
      ],
      "execution_count": 0,
      "outputs": []
    },
    {
      "cell_type": "code",
      "metadata": {
        "id": "tpV4vCxspRlf",
        "colab_type": "code",
        "colab": {}
      },
      "source": [
        ""
      ],
      "execution_count": 0,
      "outputs": []
    },
    {
      "cell_type": "code",
      "metadata": {
        "id": "X2JOuej3gWIh",
        "colab_type": "code",
        "outputId": "2ef1dbaa-26e2-4860-b353-bf9ec04667bb",
        "colab": {
          "base_uri": "https://localhost:8080/",
          "height": 36
        }
      },
      "source": [
        "b"
      ],
      "execution_count": 0,
      "outputs": [
        {
          "output_type": "execute_result",
          "data": {
            "text/plain": [
              "[840, 855, 415, 185, 10, 20]"
            ]
          },
          "metadata": {
            "tags": []
          },
          "execution_count": 91
        }
      ]
    },
    {
      "cell_type": "code",
      "metadata": {
        "id": "C0_k_Wa3dhNu",
        "colab_type": "code",
        "outputId": "c95a66da-2721-424a-ca8c-4bdbc4ef30b5",
        "colab": {
          "base_uri": "https://localhost:8080/",
          "height": 176
        }
      },
      "source": [
        "b[6]"
      ],
      "execution_count": 0,
      "outputs": [
        {
          "output_type": "error",
          "ename": "IndexError",
          "evalue": "ignored",
          "traceback": [
            "\u001b[0;31m---------------------------------------------------------------------------\u001b[0m",
            "\u001b[0;31mIndexError\u001b[0m                                Traceback (most recent call last)",
            "\u001b[0;32m<ipython-input-76-aebb4ac495f4>\u001b[0m in \u001b[0;36m<module>\u001b[0;34m()\u001b[0m\n\u001b[0;32m----> 1\u001b[0;31m \u001b[0mb\u001b[0m\u001b[0;34m[\u001b[0m\u001b[0;36m6\u001b[0m\u001b[0;34m]\u001b[0m\u001b[0;34m\u001b[0m\u001b[0;34m\u001b[0m\u001b[0m\n\u001b[0m",
            "\u001b[0;31mIndexError\u001b[0m: list index out of range"
          ]
        }
      ]
    },
    {
      "cell_type": "markdown",
      "metadata": {
        "id": "80ymGMhC1wdO",
        "colab_type": "text"
      },
      "source": [
        "# DFS (깊이 탐색)"
      ]
    },
    {
      "cell_type": "code",
      "metadata": {
        "id": "7newjks11z9J",
        "colab_type": "code",
        "colab": {
          "base_uri": "https://localhost:8080/",
          "height": 223
        },
        "outputId": "06b786f0-cd54-4a6f-ddd5-745582efdb79"
      },
      "source": [
        "#1260\n",
        "\n",
        "N,M,V = map(int,input().split())\n",
        "matrix=[[0]*(N+1) for _ in range(N+1)]\n",
        "\n",
        "for _ in range(M):\n",
        "  link = list(map(int,input().split()))\n",
        "  matrix[link[0]][link[1]]=1\n",
        "  matrix[link[1]][link[0]]=1"
      ],
      "execution_count": 9,
      "outputs": [
        {
          "output_type": "stream",
          "text": [
            "4 5 1\n",
            "1 2\n",
            "[[0, 0, 0, 0, 0], [0, 0, 1, 0, 0], [0, 1, 0, 0, 0], [0, 0, 0, 0, 0], [0, 0, 0, 0, 0]]\n",
            "1 3\n",
            "[[0, 0, 0, 0, 0], [0, 0, 1, 1, 0], [0, 1, 0, 0, 0], [0, 1, 0, 0, 0], [0, 0, 0, 0, 0]]\n",
            "1 4\n",
            "[[0, 0, 0, 0, 0], [0, 0, 1, 1, 1], [0, 1, 0, 0, 0], [0, 1, 0, 0, 0], [0, 1, 0, 0, 0]]\n",
            "2 4\n",
            "[[0, 0, 0, 0, 0], [0, 0, 1, 1, 1], [0, 1, 0, 0, 1], [0, 1, 0, 0, 0], [0, 1, 1, 0, 0]]\n",
            "3 4\n",
            "[[0, 0, 0, 0, 0], [0, 0, 1, 1, 1], [0, 1, 0, 0, 1], [0, 1, 0, 0, 1], [0, 1, 1, 1, 0]]\n"
          ],
          "name": "stdout"
        }
      ]
    },
    {
      "cell_type": "code",
      "metadata": {
        "id": "UwIyYS2E7K2b",
        "colab_type": "code",
        "colab": {
          "base_uri": "https://localhost:8080/",
          "height": 111
        },
        "outputId": "d15f7fa3-44f9-43d4-ebda-218e5d226059"
      },
      "source": [
        "matrix"
      ],
      "execution_count": 16,
      "outputs": [
        {
          "output_type": "execute_result",
          "data": {
            "text/plain": [
              "[[0, 0, 0, 0, 0],\n",
              " [0, 0, 1, 1, 1],\n",
              " [0, 1, 0, 0, 1],\n",
              " [0, 1, 0, 0, 1],\n",
              " [0, 1, 1, 1, 0]]"
            ]
          },
          "metadata": {
            "tags": []
          },
          "execution_count": 16
        }
      ]
    },
    {
      "cell_type": "code",
      "metadata": {
        "id": "e31gH1W63na4",
        "colab_type": "code",
        "colab": {
          "base_uri": "https://localhost:8080/",
          "height": 857
        },
        "outputId": "8a2f62df-648d-4779-d9ca-047f3ad934f6"
      },
      "source": [
        "matrix\n",
        "def dfs(current_node, row, foot_prints):\n",
        "  foot_prints += [current_node]\n",
        "  print(foot_prints,'foot1')\n",
        "  for search_node in range(len(row[current_node])):\n",
        "    print(search_node,'search')\n",
        "    if row[current_node][search_node] and search_node not in foot_prints:\n",
        "      foot_prints =dfs(search_node,row,foot_prints)\n",
        "      #print(foot_prints,'foot2')\n",
        "    print(search_node,'search2')\n",
        "  return foot_prints\n",
        "\n",
        "print(dfs(V,matrix,[]))"
      ],
      "execution_count": 26,
      "outputs": [
        {
          "output_type": "stream",
          "text": [
            "[1] foot1\n",
            "0 search\n",
            "0 search2\n",
            "1 search\n",
            "1 search2\n",
            "2 search\n",
            "[1, 2] foot1\n",
            "0 search\n",
            "0 search2\n",
            "1 search\n",
            "1 search2\n",
            "2 search\n",
            "2 search2\n",
            "3 search\n",
            "3 search2\n",
            "4 search\n",
            "[1, 2, 4] foot1\n",
            "0 search\n",
            "0 search2\n",
            "1 search\n",
            "1 search2\n",
            "2 search\n",
            "2 search2\n",
            "3 search\n",
            "[1, 2, 4, 3] foot1\n",
            "0 search\n",
            "0 search2\n",
            "1 search\n",
            "1 search2\n",
            "2 search\n",
            "2 search2\n",
            "3 search\n",
            "3 search2\n",
            "4 search\n",
            "4 search2\n",
            "3 search2\n",
            "4 search\n",
            "4 search2\n",
            "4 search2\n",
            "2 search2\n",
            "3 search\n",
            "3 search2\n",
            "4 search\n",
            "4 search2\n",
            "[1, 2, 4, 3]\n"
          ],
          "name": "stdout"
        }
      ]
    },
    {
      "cell_type": "code",
      "metadata": {
        "id": "jTqdoXZL7d-g",
        "colab_type": "code",
        "colab": {
          "base_uri": "https://localhost:8080/",
          "height": 36
        },
        "outputId": "7e3f302e-abe3-4eb4-9673-1f6f87f169b8"
      },
      "source": [
        ""
      ],
      "execution_count": 19,
      "outputs": [
        {
          "output_type": "execute_result",
          "data": {
            "text/plain": [
              "5"
            ]
          },
          "metadata": {
            "tags": []
          },
          "execution_count": 19
        }
      ]
    },
    {
      "cell_type": "code",
      "metadata": {
        "id": "feAD7djuBfAD",
        "colab_type": "code",
        "colab": {
          "base_uri": "https://localhost:8080/",
          "height": 129
        },
        "outputId": "cb172705-bde8-4568-b451-cce32c4cb1f2"
      },
      "source": [
        "N, M, V = map(int, input().split())\n",
        "\n",
        "#Graph Set\n",
        "graph_list = [set([]) for _ in range(N+1)]\n",
        "for _ in range(M):\n",
        "    i, j = map(int, input().split())\n",
        "    graph_list[i].add(j)\n",
        "    graph_list[j].add(i)"
      ],
      "execution_count": 27,
      "outputs": [
        {
          "output_type": "stream",
          "text": [
            "4 5 1\n",
            "1 2\n",
            "1 3\n",
            "1 4\n",
            "2 4\n",
            "3 4\n"
          ],
          "name": "stdout"
        }
      ]
    },
    {
      "cell_type": "code",
      "metadata": {
        "id": "FQZx3yy3HaXF",
        "colab_type": "code",
        "colab": {}
      },
      "source": [
        ""
      ],
      "execution_count": 0,
      "outputs": []
    },
    {
      "cell_type": "code",
      "metadata": {
        "id": "LEb5TDsCBntx",
        "colab_type": "code",
        "colab": {}
      },
      "source": [
        "graph = {'A': set(['B', 'C']),\n",
        "         'B': set(['A', 'D', 'E']),\n",
        "         'C': set(['A', 'F']),\n",
        "         'D': set(['B']),\n",
        "         'E': set(['B', 'F']),\n",
        "         'F': set(['C', 'E'])}"
      ],
      "execution_count": 0,
      "outputs": []
    },
    {
      "cell_type": "code",
      "metadata": {
        "id": "Wbo3dX-OBoOb",
        "colab_type": "code",
        "colab": {}
      },
      "source": [
        "def bfs(graph, start):\n",
        "    visited = []\n",
        "    queue = [start]\n",
        "\n",
        "    while queue:\n",
        "        n = queue.pop(0)\n",
        "        if n not in visited:\n",
        "            visited.append(n)\n",
        "            queue += graph[n] - set(visited)\n",
        "    return visited"
      ],
      "execution_count": 0,
      "outputs": []
    },
    {
      "cell_type": "code",
      "metadata": {
        "id": "KGyruTYgBoL-",
        "colab_type": "code",
        "colab": {
          "base_uri": "https://localhost:8080/",
          "height": 36
        },
        "outputId": "871de572-27a7-4682-984e-d908c4cc2fd8"
      },
      "source": [
        "def dfs(graph,start):\n",
        "  visited=[]\n",
        "  stack=[start]\n",
        "  while stack:\n",
        "    n= stack.pop()\n",
        "    if n not in visited:\n",
        "      visited.append(n)\n",
        "      stack += graph[n] - set(visited)\n",
        "  return visited"
      ],
      "execution_count": 41,
      "outputs": [
        {
          "output_type": "execute_result",
          "data": {
            "text/plain": [
              "['B', 'A', 'D', 'E', 'C', 'F']"
            ]
          },
          "metadata": {
            "tags": []
          },
          "execution_count": 41
        }
      ]
    },
    {
      "cell_type": "markdown",
      "metadata": {
        "id": "1S0vEVnCWCWP",
        "colab_type": "text"
      },
      "source": [
        "# 탐색\n"
      ]
    },
    {
      "cell_type": "code",
      "metadata": {
        "id": "mzCH9C0cWEBJ",
        "colab_type": "code",
        "colab": {
          "base_uri": "https://localhost:8080/",
          "height": 129
        },
        "outputId": "6f4147fb-1508-441c-e222-622daacaf31a"
      },
      "source": [
        "#1065\n",
        "num = int(input())\n",
        "hansu=0\n",
        "for n in range(1,num+1):\n",
        "  if n<=99:\n",
        "    hansu+=1\n",
        "  else:\n",
        "    nums=list(map(int,str(n)))\n",
        "    if nums[0]-nums[1] == nums[1] - nums[2]:\n",
        "      hansu+=1\n",
        "print(hansu)"
      ],
      "execution_count": 47,
      "outputs": [
        {
          "output_type": "stream",
          "text": [
            "153\n",
            "[1, 1, 1]\n",
            "[1, 2, 3]\n",
            "[1, 3, 5]\n",
            "[1, 4, 7]\n",
            "103\n"
          ],
          "name": "stdout"
        }
      ]
    },
    {
      "cell_type": "code",
      "metadata": {
        "id": "kzvETvMTYT8X",
        "colab_type": "code",
        "colab": {
          "base_uri": "https://localhost:8080/",
          "height": 55
        },
        "outputId": "6b17a954-9006-4761-85c6-b3fa1f0faa9d"
      },
      "source": [
        "a=int(input())\n",
        "count=0\n",
        "for i in range(1,a+1):\n",
        "  if i <=99:\n",
        "    count+=1\n",
        "  else:\n",
        "    b=list(map(int,str(i)))\n",
        "    if b[1] - b[0] == b[2] - b[1]:\n",
        "      count+=1\n",
        "      \n",
        "print(count)"
      ],
      "execution_count": 60,
      "outputs": [
        {
          "output_type": "stream",
          "text": [
            "110\n",
            "99\n"
          ],
          "name": "stdout"
        }
      ]
    },
    {
      "cell_type": "code",
      "metadata": {
        "id": "PJInGrOoaVyK",
        "colab_type": "code",
        "colab": {
          "base_uri": "https://localhost:8080/",
          "height": 36
        },
        "outputId": "390c7d6b-3f7f-4682-d281-20e703a9d08f"
      },
      "source": [
        "#1316\n",
        "\n",
        "a=list(input())\n"
      ],
      "execution_count": 65,
      "outputs": [
        {
          "output_type": "stream",
          "text": [
            "happy\n"
          ],
          "name": "stdout"
        }
      ]
    },
    {
      "cell_type": "code",
      "metadata": {
        "id": "d-RkUE0ka4A6",
        "colab_type": "code",
        "colab": {
          "base_uri": "https://localhost:8080/",
          "height": 111
        },
        "outputId": "2ebe4c92-39e7-4217-8749-8aafb58db988"
      },
      "source": [
        "b=0\n",
        "for i in range(int(input())):\n",
        "  a = input()\n",
        "  if list(a)  == sorted(a,key=a.find):  #find 를 이용하면 charactor 순으로 정렬됨\n",
        "    b+=1\n",
        "print(b)"
      ],
      "execution_count": 97,
      "outputs": [
        {
          "output_type": "stream",
          "text": [
            "3\n",
            "happy\n",
            "new\n",
            "year\n",
            "3\n"
          ],
          "name": "stdout"
        }
      ]
    },
    {
      "cell_type": "code",
      "metadata": {
        "id": "NO9jKaR1eFdd",
        "colab_type": "code",
        "colab": {}
      },
      "source": [
        "a='happya'\n",
        "if a == sorted(a,key=a.find):\n",
        "  print(1)"
      ],
      "execution_count": 0,
      "outputs": []
    },
    {
      "cell_type": "code",
      "metadata": {
        "id": "Sw4j3jNTe0mN",
        "colab_type": "code",
        "colab": {
          "base_uri": "https://localhost:8080/",
          "height": 55
        },
        "outputId": "73fd2195-6d62-4adc-c42a-b2ce3e5f6c05"
      },
      "source": [
        "a\n",
        "b=sorted(a,key= a.find)\n",
        "print(list(a))\n",
        "print(b)"
      ],
      "execution_count": 95,
      "outputs": [
        {
          "output_type": "stream",
          "text": [
            "['h', 'a', 'p', 'p', 'y', 'a']\n",
            "['h', 'a', 'a', 'p', 'p', 'y']\n"
          ],
          "name": "stdout"
        }
      ]
    },
    {
      "cell_type": "code",
      "metadata": {
        "id": "SwAhHMaYgDBE",
        "colab_type": "code",
        "colab": {}
      },
      "source": [
        "#1026\n",
        "n=int(input())\n",
        "a=list(map(int,input().split()))\n",
        "b=list(map(int,input().split()))\n",
        "c= 0\n",
        "for i in range(n):\n",
        "  a=sorted(a)\n",
        "  \n",
        "  b=sorted(b,reverse=True)\n",
        "  \n",
        "  c+=(a[i]*b[i])\n"
      ],
      "execution_count": 0,
      "outputs": []
    },
    {
      "cell_type": "code",
      "metadata": {
        "id": "FasovNLhiN2F",
        "colab_type": "code",
        "colab": {}
      },
      "source": [
        "f= lambda x : sorted(map(int,input().split()),reverse=x)\n",
        "#zip 동일한 index끼리 묶어주는 역할"
      ],
      "execution_count": 0,
      "outputs": []
    },
    {
      "cell_type": "code",
      "metadata": {
        "id": "xcH_qHQfjZ8u",
        "colab_type": "code",
        "colab": {
          "base_uri": "https://localhost:8080/",
          "height": 167
        },
        "outputId": "e25f2c22-0fce-419d-8a8c-06412f40abb1"
      },
      "source": [
        "a=[]\n",
        "for i in range(8):\n",
        "  a.append(list(input()))"
      ],
      "execution_count": 121,
      "outputs": [
        {
          "output_type": "stream",
          "text": [
            ".F.F...F\n",
            "F...F.F.\n",
            "...F.F.F\n",
            "F.F...F.\n",
            ".F...F..\n",
            "F...F.F.\n",
            ".F.F.F.F\n",
            "..FF..F.\n"
          ],
          "name": "stdout"
        }
      ]
    },
    {
      "cell_type": "code",
      "metadata": {
        "id": "ezokRGY8lxE9",
        "colab_type": "code",
        "colab": {
          "base_uri": "https://localhost:8080/",
          "height": 55
        },
        "outputId": "82e52611-84be-4423-b7da-9ffab7ae42e4"
      },
      "source": [
        "b=[]\n",
        "for i in range(2):\n",
        "  b+=list(input())\n"
      ],
      "execution_count": 125,
      "outputs": [
        {
          "output_type": "stream",
          "text": [
            ".f.f.f\n",
            "f...ff\n"
          ],
          "name": "stdout"
        }
      ]
    },
    {
      "cell_type": "code",
      "metadata": {
        "id": "4VPux82Om5V2",
        "colab_type": "code",
        "colab": {
          "base_uri": "https://localhost:8080/",
          "height": 185
        },
        "outputId": "d9ddd0ea-7103-4ade-bd52-4c88ebc771a3"
      },
      "source": [
        "a=[]\n",
        "for i in range(8):\n",
        "  a+=(list(input()))\n",
        "count=0\n",
        "for i in range(len(a)):\n",
        "  if i%2==1 and a[i] == 'F':\n",
        "    count+=1\n",
        "print(count)"
      ],
      "execution_count": 133,
      "outputs": [
        {
          "output_type": "stream",
          "text": [
            ".F.F...F\n",
            "F...F.F.\n",
            "...F.F.F\n",
            "F.F...F.\n",
            ".F...F..\n",
            "F...F.F.\n",
            ".F.F.F.F\n",
            "..FF..F.\n",
            "13\n"
          ],
          "name": "stdout"
        }
      ]
    },
    {
      "cell_type": "code",
      "metadata": {
        "id": "MFTlfZ8RoWHd",
        "colab_type": "code",
        "colab": {
          "base_uri": "https://localhost:8080/",
          "height": 36
        },
        "outputId": "c3548557-8ec8-49c8-d909-6afabf7dc9cd"
      },
      "source": [
        "count=0\n",
        "for i in range(len(a)):\n",
        "  i%=8\n",
        "  if i%2==0 and a[i] == 'F':  \n",
        "    count+=1\n",
        "print(count)"
      ],
      "execution_count": 157,
      "outputs": [
        {
          "output_type": "stream",
          "text": [
            "0\n"
          ],
          "name": "stdout"
        }
      ]
    },
    {
      "cell_type": "code",
      "metadata": {
        "id": "5QM4gbOVocmM",
        "colab_type": "code",
        "colab": {
          "base_uri": "https://localhost:8080/",
          "height": 36
        },
        "outputId": "7db119a8-03b6-49d4-9a2b-7b7e1cf77acb"
      },
      "source": [
        "a[8]"
      ],
      "execution_count": 150,
      "outputs": [
        {
          "output_type": "execute_result",
          "data": {
            "text/plain": [
              "'.'"
            ]
          },
          "metadata": {
            "tags": []
          },
          "execution_count": 150
        }
      ]
    }
  ]
}