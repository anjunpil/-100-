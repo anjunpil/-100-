{
 "cells": [
  {
   "cell_type": "markdown",
   "metadata": {},
   "source": [
    "### 3장 IPython 소개"
   ]
  },
  {
   "cell_type": "code",
   "execution_count": null,
   "metadata": {},
   "outputs": [],
   "source": [
    "import numpy as np\n",
    "\n",
    "a= np.random.randn(100,100)\n",
    "a\n",
    "\n",
    "%reset?\n",
    "%outomagic"
   ]
  },
  {
   "cell_type": "code",
   "execution_count": null,
   "metadata": {},
   "outputs": [],
   "source": [
    "2**27\n"
   ]
  },
  {
   "cell_type": "markdown",
   "metadata": {},
   "source": [
    "### 4장 Numpy"
   ]
  },
  {
   "cell_type": "code",
   "execution_count": 6,
   "metadata": {},
   "outputs": [
    {
     "data": {
      "text/plain": [
       "dtype('float64')"
      ]
     },
     "execution_count": 6,
     "metadata": {},
     "output_type": "execute_result"
    }
   ],
   "source": [
    "#4.1\n",
    "import numpy as np\n",
    "\n",
    "data=np.random.randn(2,3)\n",
    "data*10\n",
    "\n",
    "data.shape #shape 차원의 크기를 알려줌\n",
    "data.dtype #dtype 저장된 자료형"
   ]
  },
  {
   "cell_type": "code",
   "execution_count": 25,
   "metadata": {},
   "outputs": [
    {
     "data": {
      "text/plain": [
       "array([0, 1, 2, 3, 4, 5, 6, 7, 8, 9])"
      ]
     },
     "execution_count": 25,
     "metadata": {},
     "output_type": "execute_result"
    }
   ],
   "source": [
    "#4.1.1\n",
    "data1 = [6,7.5,8,0,1]\n",
    "arr1=np.array(data1)\n",
    "arr1\n",
    "\n",
    "data2 = [[1,2,3,4],[4,5,6,7]]\n",
    "arr2 = np.array(data2)\n",
    "arr2\n",
    "\n",
    "arr2.ndim\n",
    "arr2.dtype\n",
    "\n",
    "np.zeros(2) #zeros 0의 배열(갯수)생성\n",
    "np.zeros((3,2))\n",
    "\n",
    "np.empty((2,3,2))\n",
    "\n",
    "np.arange(10) # 숫자 나열 0,1,2,3,4,5,6,7,8,9\n",
    "\n",
    "#asarray 입력 데이터를 ndarray로 변환\n",
    "#arange 내장 range함수와 유사 but list 대신 ndarray 반환\n"
   ]
  },
  {
   "cell_type": "code",
   "execution_count": 52,
   "metadata": {},
   "outputs": [
    {
     "name": "stdout",
     "output_type": "stream",
     "text": [
      "[1. 2. 3.] [1 2 3]\n",
      "int32\n",
      "float64\n",
      "[[-0.16422249  1.30608848 -0.06372749 -0.95726788  0.40794158  0.23676731\n",
      "  -1.31258756]]\n",
      "[[ 0  1  0  0  0  0 -1]]\n"
     ]
    },
    {
     "data": {
      "text/plain": [
       "array([1, 2, 3, 4, 4, 5, 6, 7], dtype=uint32)"
      ]
     },
     "execution_count": 52,
     "metadata": {},
     "output_type": "execute_result"
    }
   ],
   "source": [
    "#4.1.2\n",
    "\n",
    "arr1 = np.array([1,2,3],dtype=np.float64)\n",
    "arr2 = np.array([1,2,3],dtype=np.int32)\n",
    "\n",
    "print(arr1,arr2) #소수 정수에 따라 뒤에 소수점이 붙냐 안붙냐 차이가 생김\n",
    "\n",
    "arr=np.array([1,2,3,4,5])\n",
    "print(arr.dtype)\n",
    "\n",
    "float_arr=arr.astype(np.float64)   #astype 타입 변경\n",
    "print(float_arr.dtype)\n",
    "\n",
    "arr= np.random.randn(1,7)\n",
    "arr2=arr.astype(np.int32)\n",
    "print(arr)\n",
    "print(arr2) #타입변경 소숫점아래는 버려짐\n",
    "\n",
    "numeric_strings = np.array(['1.25','-9.6','42'],dtype=np.string_)\n",
    "numeric_strings.astype(float)\n",
    "\n",
    "int_array=np.arange(10)\n",
    "calibers=np.array([.22,.270,.357,.380,.44,.50],dtype=np.float64)\n",
    "int_array.astype(calibers.dtype)\n",
    "\n",
    "empty_unit32=np.empty(8,dtype='u4') #u4 = unit32\n",
    "empty_unit32"
   ]
  },
  {
   "cell_type": "code",
   "execution_count": 56,
   "metadata": {},
   "outputs": [
    {
     "data": {
      "text/plain": [
       "array([[1.        , 0.5       , 0.33333333],\n",
       "       [0.25      , 0.2       , 0.16666667]])"
      ]
     },
     "execution_count": 56,
     "metadata": {},
     "output_type": "execute_result"
    }
   ],
   "source": [
    "#4.1.3\n",
    "\n",
    "#배열은 for 반목문을 작성하지 않고 데이터를 일괄처리할 수 있기 때문에 중요\n",
    "\n",
    "arr=np.array([[1.,2.,3.],[4.,5.,6.]])\n",
    "arr*arr\n",
    "1/arr"
   ]
  },
  {
   "cell_type": "code",
   "execution_count": 91,
   "metadata": {},
   "outputs": [
    {
     "name": "stdout",
     "output_type": "stream",
     "text": [
      "5\n",
      "[2 3]\n",
      "[ 0  1  2 10 10  5  6  7  8  9]\n",
      "[   0    1    2   10   10    5 1234    7    8    9]\n",
      "[ 0  1  2 10 10 64 64 64  8  9]\n",
      "[7 8 9]\n",
      "1\n",
      "3\n",
      "8\n",
      "9\n",
      "[[[ 1  2  3]\n",
      "  [ 4  5  6]]\n",
      "\n",
      " [[ 7  8  9]\n",
      "  [10 11 12]]]\n",
      "[[1 2 3]\n",
      " [4 5 6]]\n",
      "[[[42 42 42]\n",
      "  [42 42 42]]\n",
      "\n",
      " [[ 7  8  9]\n",
      "  [10 11 12]]]\n"
     ]
    },
    {
     "data": {
      "text/plain": [
       "array([[[ 1,  2,  3],\n",
       "        [ 4,  5,  6]],\n",
       "\n",
       "       [[ 7,  8,  9],\n",
       "        [10, 11, 12]]])"
      ]
     },
     "execution_count": 91,
     "metadata": {},
     "output_type": "execute_result"
    }
   ],
   "source": [
    "#4.1.4\n",
    "\n",
    "arr=np.arange(10)\n",
    "print(arr[5])\n",
    "print(arr[2:4])\n",
    "arr[3:5]=10\n",
    "print(arr) #리스와의 차이점 배열조각은 원본배열의 뷰라는 점/데이터 복사 x 뷰에 대한 변경은 그대로 반영\n",
    "\n",
    "arr_slice=arr[5:8]\n",
    "arr_slice[1]=1234\n",
    "print(arr)\n",
    "\n",
    "arr_slice[:]=64\n",
    "print(arr) #만약 데이터 복사를 원한다면 arr[5:8].copy() 사용\n",
    "\n",
    "arr2d= np.array([[1,2,3],[4,5,6],[7,8,9]])\n",
    "print(arr2d[2]) #스칼라값을 부르는게 아니라 1차원을 부름\n",
    "\n",
    "print(arr2d[0][0])\n",
    "print(arr2d[0][2])\n",
    "print(arr2d[2][1])\n",
    "print(arr2d[2][2]) #콤마로 구분된 색인 리스트를 넘긴다\n",
    "\n",
    "arr3d =np.array([[[1,2,3],[4,5,6]],[[7,8,9],[10,11,12]]])\n",
    "print(arr3d)\n",
    "print(arr3d[0]) # 2*3 크기의 배열\n",
    "old_values =arr3d[0].copy()\n",
    "\n",
    "arr3d[0]=42\n",
    "\n",
    "print(arr3d)\n",
    "\n",
    "arr3d[0]=old_values\n",
    "arr3d"
   ]
  },
  {
   "cell_type": "code",
   "execution_count": 101,
   "metadata": {},
   "outputs": [
    {
     "name": "stdout",
     "output_type": "stream",
     "text": [
      "[[1 2 3]\n",
      " [4 5 6]]\n",
      "[[1 2]]\n"
     ]
    }
   ],
   "source": [
    "arr3d[1,0]\n",
    "\n",
    "arr[1:6]\n",
    "print(arr2d[0:2])\n",
    "print(arr2d[0:1,0:2])"
   ]
  },
  {
   "cell_type": "code",
   "execution_count": 145,
   "metadata": {},
   "outputs": [
    {
     "name": "stdout",
     "output_type": "stream",
     "text": [
      "[[-0.20347417  1.97264602]\n",
      " [ 0.38236472  0.7935688 ]]\n",
      "[1.97264602 0.7935688 ]\n",
      "[[ 0.65612788 -0.01218079  0.36307582  0.42909917]\n",
      " [-0.47915562  0.33501452 -0.87555643  0.86422772]\n",
      " [ 0.66469238  0.51097021  0.09494639 -1.04797177]\n",
      " [ 0.91054267  0.53597308 -0.25843099 -0.63496759]\n",
      " [-0.96611577 -1.60807733  1.10329996 -0.11856133]]\n"
     ]
    },
    {
     "data": {
      "text/plain": [
       "array([False, False, False, False, False, False, False])"
      ]
     },
     "execution_count": 145,
     "metadata": {},
     "output_type": "execute_result"
    }
   ],
   "source": [
    "#4.1.5 불리언 색인\n",
    "\n",
    "names = np.array(['bob','joe','will','bob','will','joe','joe'])\n",
    "data=np.random.randn(7,4)\n",
    "\n",
    "names=='bob'\n",
    "names.dtype\n",
    "\n",
    "print(data[names=='bob',2:]) # data 안에  3열 이상의 'bob' row만 불러온다\n",
    "print(data[names=='bob',3])\n",
    "\n",
    "print(data[(names!='bob')])\n",
    "\n",
    "mask = (names=='bob') & (names=='will')\n",
    "\n",
    "mask  #and or 은 불리언 배열에서 사용 안됨 "
   ]
  },
  {
   "cell_type": "code",
   "execution_count": 149,
   "metadata": {},
   "outputs": [
    {
     "data": {
      "text/plain": [
       "array([[1.18309878, 0.56391442, 0.        , 1.97264602],\n",
       "       [0.        , 0.33501452, 0.        , 0.86422772],\n",
       "       [0.31000359, 0.        , 0.38236472, 0.7935688 ],\n",
       "       [0.66469238, 0.51097021, 0.09494639, 0.        ]])"
      ]
     },
     "execution_count": 149,
     "metadata": {},
     "output_type": "execute_result"
    }
   ],
   "source": [
    "data[data<0]=0\n",
    "data[names !='joe']"
   ]
  },
  {
   "cell_type": "code",
   "execution_count": 165,
   "metadata": {},
   "outputs": [
    {
     "name": "stdout",
     "output_type": "stream",
     "text": [
      "[[0. 0. 0. 0.]\n",
      " [1. 1. 1. 1.]\n",
      " [2. 2. 2. 2.]\n",
      " [3. 3. 3. 3.]\n",
      " [4. 4. 4. 4.]\n",
      " [5. 5. 5. 5.]\n",
      " [6. 6. 6. 6.]\n",
      " [7. 7. 7. 7.]]\n",
      "[[4. 4. 4. 4.]\n",
      " [3. 3. 3. 3.]\n",
      " [0. 0. 0. 0.]\n",
      " [6. 6. 6. 6.]]\n",
      "[ 4 23 29 10]\n",
      "[[ 4  7  5  6]\n",
      " [20 23 21 22]\n",
      " [28 31 29 30]\n",
      " [ 8 11  9 10]]\n"
     ]
    }
   ],
   "source": [
    "#4.1.6 팬시 색인\n",
    "\n",
    "arr=np.empty((8,4))\n",
    "\n",
    "for i in range(8):\n",
    "    arr[i]=i\n",
    "print(arr)\n",
    "print(arr[[4,3,0,6]])\n",
    "\n",
    "arr=np.arange(32).reshape((8,4))\n",
    "print(arr[[1,5,7,2],[0,3,1,2]])#필요한 행에서 0,3,1,2 번쨰 열의 값을 가져온다 첫 list는 안의 전체list 배열 두번째 list는 그 안의 배열\n",
    "\n",
    "print(arr[np.ix_([1,5,7,2],[0,3,1,2])]) #np_ix 배열 순서를 바꿔준다"
   ]
  },
  {
   "cell_type": "code",
   "execution_count": 175,
   "metadata": {},
   "outputs": [
    {
     "data": {
      "text/plain": [
       "array([[[ 0,  1,  2,  3,  4,  5,  6,  7,  8,  9, 10, 11, 12, 13, 14, 15,\n",
       "         16, 17, 18, 19, 20, 21, 22, 23, 24],\n",
       "        [25, 26, 27, 28, 29, 30, 31, 32, 33, 34, 35, 36, 37, 38, 39, 40,\n",
       "         41, 42, 43, 44, 45, 46, 47, 48, 49]],\n",
       "\n",
       "       [[50, 51, 52, 53, 54, 55, 56, 57, 58, 59, 60, 61, 62, 63, 64, 65,\n",
       "         66, 67, 68, 69, 70, 71, 72, 73, 74],\n",
       "        [75, 76, 77, 78, 79, 80, 81, 82, 83, 84, 85, 86, 87, 88, 89, 90,\n",
       "         91, 92, 93, 94, 95, 96, 97, 98, 99]]])"
      ]
     },
     "execution_count": 175,
     "metadata": {},
     "output_type": "execute_result"
    }
   ],
   "source": [
    "#4.1.7 배열 전치와 축 바꾸기\n",
    "\n",
    "arr=np.arange(15).reshape((3,5))\n",
    "arr.T\n",
    "\n",
    "arr=np.arange(100).reshape((2,2,25))\n"
   ]
  },
  {
   "cell_type": "code",
   "execution_count": null,
   "metadata": {},
   "outputs": [],
   "source": [
    "#4.2 유니버설 함수\n",
    "\n",
    "arr= np.ar"
   ]
  },
  {
   "cell_type": "code",
   "execution_count": null,
   "metadata": {},
   "outputs": [],
   "source": []
  },
  {
   "cell_type": "code",
   "execution_count": null,
   "metadata": {},
   "outputs": [],
   "source": []
  },
  {
   "cell_type": "code",
   "execution_count": null,
   "metadata": {},
   "outputs": [],
   "source": []
  },
  {
   "cell_type": "code",
   "execution_count": null,
   "metadata": {},
   "outputs": [],
   "source": []
  },
  {
   "cell_type": "code",
   "execution_count": null,
   "metadata": {},
   "outputs": [],
   "source": []
  },
  {
   "cell_type": "code",
   "execution_count": null,
   "metadata": {},
   "outputs": [],
   "source": []
  }
 ],
 "metadata": {
  "kernelspec": {
   "display_name": "Python 3",
   "language": "python",
   "name": "python3"
  },
  "language_info": {
   "codemirror_mode": {
    "name": "ipython",
    "version": 3
   },
   "file_extension": ".py",
   "mimetype": "text/x-python",
   "name": "python",
   "nbconvert_exporter": "python",
   "pygments_lexer": "ipython3",
   "version": "3.7.4"
  }
 },
 "nbformat": 4,
 "nbformat_minor": 2
}
