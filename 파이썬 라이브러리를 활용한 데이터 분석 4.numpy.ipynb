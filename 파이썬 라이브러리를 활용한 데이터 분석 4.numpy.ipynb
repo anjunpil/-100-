{
 "cells": [
  {
   "cell_type": "markdown",
   "metadata": {},
   "source": [
    "# 3장 IPython 소개"
   ]
  },
  {
   "cell_type": "code",
   "execution_count": 3,
   "metadata": {},
   "outputs": [
    {
     "name": "stderr",
     "output_type": "stream",
     "text": [
      "UsageError: Line magic function `%outomagic` not found.\n"
     ]
    }
   ],
   "source": [
    "import numpy as np\n",
    "\n",
    "a= np.random.randn(100,100)\n",
    "a\n",
    "\n",
    "%reset?\n",
    "%outomagic"
   ]
  },
  {
   "cell_type": "code",
   "execution_count": null,
   "metadata": {},
   "outputs": [],
   "source": [
    "2**27\n"
   ]
  },
  {
   "cell_type": "markdown",
   "metadata": {},
   "source": [
    "# 4장 Numpy"
   ]
  },
  {
   "cell_type": "code",
   "execution_count": 6,
   "metadata": {},
   "outputs": [
    {
     "data": {
      "text/plain": [
       "dtype('float64')"
      ]
     },
     "execution_count": 6,
     "metadata": {},
     "output_type": "execute_result"
    }
   ],
   "source": [
    "#4.1\n",
    "import numpy as np\n",
    "\n",
    "data=np.random.randn(2,3)\n",
    "data*10\n",
    "\n",
    "data.shape #shape 차원의 크기를 알려줌\n",
    "data.dtype #dtype 저장된 자료형"
   ]
  },
  {
   "cell_type": "code",
   "execution_count": 25,
   "metadata": {},
   "outputs": [
    {
     "data": {
      "text/plain": [
       "array([0, 1, 2, 3, 4, 5, 6, 7, 8, 9])"
      ]
     },
     "execution_count": 25,
     "metadata": {},
     "output_type": "execute_result"
    }
   ],
   "source": [
    "#4.1.1\n",
    "data1 = [6,7.5,8,0,1]\n",
    "arr1=np.array(data1)\n",
    "arr1\n",
    "\n",
    "data2 = [[1,2,3,4],[4,5,6,7]]\n",
    "arr2 = np.array(data2)\n",
    "arr2\n",
    "\n",
    "arr2.ndim\n",
    "arr2.dtype\n",
    "\n",
    "np.zeros(2) #zeros 0의 배열(갯수)생성\n",
    "np.zeros((3,2))\n",
    "\n",
    "np.empty((2,3,2))\n",
    "\n",
    "np.arange(10) # 숫자 나열 0,1,2,3,4,5,6,7,8,9\n",
    "\n",
    "#asarray 입력 데이터를 ndarray로 변환\n",
    "#arange 내장 range함수와 유사 but list 대신 ndarray 반환\n"
   ]
  },
  {
   "cell_type": "code",
   "execution_count": 52,
   "metadata": {},
   "outputs": [
    {
     "name": "stdout",
     "output_type": "stream",
     "text": [
      "[1. 2. 3.] [1 2 3]\n",
      "int32\n",
      "float64\n",
      "[[-0.16422249  1.30608848 -0.06372749 -0.95726788  0.40794158  0.23676731\n",
      "  -1.31258756]]\n",
      "[[ 0  1  0  0  0  0 -1]]\n"
     ]
    },
    {
     "data": {
      "text/plain": [
       "array([1, 2, 3, 4, 4, 5, 6, 7], dtype=uint32)"
      ]
     },
     "execution_count": 52,
     "metadata": {},
     "output_type": "execute_result"
    }
   ],
   "source": [
    "#4.1.2\n",
    "\n",
    "arr1 = np.array([1,2,3],dtype=np.float64)\n",
    "arr2 = np.array([1,2,3],dtype=np.int32)\n",
    "\n",
    "print(arr1,arr2) #소수 정수에 따라 뒤에 소수점이 붙냐 안붙냐 차이가 생김\n",
    "\n",
    "arr=np.array([1,2,3,4,5])\n",
    "print(arr.dtype)\n",
    "\n",
    "float_arr=arr.astype(np.float64)   #astype 타입 변경\n",
    "print(float_arr.dtype)\n",
    "\n",
    "arr= np.random.randn(1,7)\n",
    "arr2=arr.astype(np.int32)\n",
    "print(arr)\n",
    "print(arr2) #타입변경 소숫점아래는 버려짐\n",
    "\n",
    "numeric_strings = np.array(['1.25','-9.6','42'],dtype=np.string_)\n",
    "numeric_strings.astype(float)\n",
    "\n",
    "int_array=np.arange(10)\n",
    "calibers=np.array([.22,.270,.357,.380,.44,.50],dtype=np.float64)\n",
    "int_array.astype(calibers.dtype)\n",
    "\n",
    "empty_unit32=np.empty(8,dtype='u4') #u4 = unit32\n",
    "empty_unit32"
   ]
  },
  {
   "cell_type": "code",
   "execution_count": 56,
   "metadata": {},
   "outputs": [
    {
     "data": {
      "text/plain": [
       "array([[1.        , 0.5       , 0.33333333],\n",
       "       [0.25      , 0.2       , 0.16666667]])"
      ]
     },
     "execution_count": 56,
     "metadata": {},
     "output_type": "execute_result"
    }
   ],
   "source": [
    "#4.1.3\n",
    "\n",
    "#배열은 for 반목문을 작성하지 않고 데이터를 일괄처리할 수 있기 때문에 중요\n",
    "\n",
    "arr=np.array([[1.,2.,3.],[4.,5.,6.]])\n",
    "arr*arr\n",
    "1/arr"
   ]
  },
  {
   "cell_type": "code",
   "execution_count": 91,
   "metadata": {},
   "outputs": [
    {
     "name": "stdout",
     "output_type": "stream",
     "text": [
      "5\n",
      "[2 3]\n",
      "[ 0  1  2 10 10  5  6  7  8  9]\n",
      "[   0    1    2   10   10    5 1234    7    8    9]\n",
      "[ 0  1  2 10 10 64 64 64  8  9]\n",
      "[7 8 9]\n",
      "1\n",
      "3\n",
      "8\n",
      "9\n",
      "[[[ 1  2  3]\n",
      "  [ 4  5  6]]\n",
      "\n",
      " [[ 7  8  9]\n",
      "  [10 11 12]]]\n",
      "[[1 2 3]\n",
      " [4 5 6]]\n",
      "[[[42 42 42]\n",
      "  [42 42 42]]\n",
      "\n",
      " [[ 7  8  9]\n",
      "  [10 11 12]]]\n"
     ]
    },
    {
     "data": {
      "text/plain": [
       "array([[[ 1,  2,  3],\n",
       "        [ 4,  5,  6]],\n",
       "\n",
       "       [[ 7,  8,  9],\n",
       "        [10, 11, 12]]])"
      ]
     },
     "execution_count": 91,
     "metadata": {},
     "output_type": "execute_result"
    }
   ],
   "source": [
    "#4.1.4\n",
    "\n",
    "arr=np.arange(10)\n",
    "print(arr[5])\n",
    "print(arr[2:4])\n",
    "arr[3:5]=10\n",
    "print(arr) #리스와의 차이점 배열조각은 원본배열의 뷰라는 점/데이터 복사 x 뷰에 대한 변경은 그대로 반영\n",
    "\n",
    "arr_slice=arr[5:8]\n",
    "arr_slice[1]=1234\n",
    "print(arr)\n",
    "\n",
    "arr_slice[:]=64\n",
    "print(arr) #만약 데이터 복사를 원한다면 arr[5:8].copy() 사용\n",
    "\n",
    "arr2d= np.array([[1,2,3],[4,5,6],[7,8,9]])\n",
    "print(arr2d[2]) #스칼라값을 부르는게 아니라 1차원을 부름\n",
    "\n",
    "print(arr2d[0][0])\n",
    "print(arr2d[0][2])\n",
    "print(arr2d[2][1])\n",
    "print(arr2d[2][2]) #콤마로 구분된 색인 리스트를 넘긴다\n",
    "\n",
    "arr3d =np.array([[[1,2,3],[4,5,6]],[[7,8,9],[10,11,12]]])\n",
    "print(arr3d)\n",
    "print(arr3d[0]) # 2*3 크기의 배열\n",
    "old_values =arr3d[0].copy()\n",
    "\n",
    "arr3d[0]=42\n",
    "\n",
    "print(arr3d)\n",
    "\n",
    "arr3d[0]=old_values\n",
    "arr3d"
   ]
  },
  {
   "cell_type": "code",
   "execution_count": 101,
   "metadata": {},
   "outputs": [
    {
     "name": "stdout",
     "output_type": "stream",
     "text": [
      "[[1 2 3]\n",
      " [4 5 6]]\n",
      "[[1 2]]\n"
     ]
    }
   ],
   "source": [
    "arr3d[1,0]\n",
    "\n",
    "arr[1:6]\n",
    "print(arr2d[0:2])\n",
    "print(arr2d[0:1,0:2])"
   ]
  },
  {
   "cell_type": "code",
   "execution_count": 145,
   "metadata": {},
   "outputs": [
    {
     "name": "stdout",
     "output_type": "stream",
     "text": [
      "[[-0.20347417  1.97264602]\n",
      " [ 0.38236472  0.7935688 ]]\n",
      "[1.97264602 0.7935688 ]\n",
      "[[ 0.65612788 -0.01218079  0.36307582  0.42909917]\n",
      " [-0.47915562  0.33501452 -0.87555643  0.86422772]\n",
      " [ 0.66469238  0.51097021  0.09494639 -1.04797177]\n",
      " [ 0.91054267  0.53597308 -0.25843099 -0.63496759]\n",
      " [-0.96611577 -1.60807733  1.10329996 -0.11856133]]\n"
     ]
    },
    {
     "data": {
      "text/plain": [
       "array([False, False, False, False, False, False, False])"
      ]
     },
     "execution_count": 145,
     "metadata": {},
     "output_type": "execute_result"
    }
   ],
   "source": [
    "#4.1.5 불리언 색인\n",
    "\n",
    "names = np.array(['bob','joe','will','bob','will','joe','joe'])\n",
    "data=np.random.randn(7,4)\n",
    "\n",
    "names=='bob'\n",
    "names.dtype\n",
    "\n",
    "print(data[names=='bob',2:]) # data 안에  3열 이상의 'bob' row만 불러온다\n",
    "print(data[names=='bob',3])\n",
    "\n",
    "print(data[(names!='bob')])\n",
    "\n",
    "mask = (names=='bob') & (names=='will')\n",
    "\n",
    "mask  #and or 은 불리언 배열에서 사용 안됨 "
   ]
  },
  {
   "cell_type": "code",
   "execution_count": 149,
   "metadata": {},
   "outputs": [
    {
     "data": {
      "text/plain": [
       "array([[1.18309878, 0.56391442, 0.        , 1.97264602],\n",
       "       [0.        , 0.33501452, 0.        , 0.86422772],\n",
       "       [0.31000359, 0.        , 0.38236472, 0.7935688 ],\n",
       "       [0.66469238, 0.51097021, 0.09494639, 0.        ]])"
      ]
     },
     "execution_count": 149,
     "metadata": {},
     "output_type": "execute_result"
    }
   ],
   "source": [
    "data[data<0]=0\n",
    "data[names !='joe']"
   ]
  },
  {
   "cell_type": "code",
   "execution_count": 165,
   "metadata": {},
   "outputs": [
    {
     "name": "stdout",
     "output_type": "stream",
     "text": [
      "[[0. 0. 0. 0.]\n",
      " [1. 1. 1. 1.]\n",
      " [2. 2. 2. 2.]\n",
      " [3. 3. 3. 3.]\n",
      " [4. 4. 4. 4.]\n",
      " [5. 5. 5. 5.]\n",
      " [6. 6. 6. 6.]\n",
      " [7. 7. 7. 7.]]\n",
      "[[4. 4. 4. 4.]\n",
      " [3. 3. 3. 3.]\n",
      " [0. 0. 0. 0.]\n",
      " [6. 6. 6. 6.]]\n",
      "[ 4 23 29 10]\n",
      "[[ 4  7  5  6]\n",
      " [20 23 21 22]\n",
      " [28 31 29 30]\n",
      " [ 8 11  9 10]]\n"
     ]
    }
   ],
   "source": [
    "#4.1.6 팬시 색인\n",
    "\n",
    "arr=np.empty((8,4))\n",
    "\n",
    "for i in range(8):\n",
    "    arr[i]=i\n",
    "print(arr)\n",
    "print(arr[[4,3,0,6]])\n",
    "\n",
    "arr=np.arange(32).reshape((8,4))\n",
    "print(arr[[1,5,7,2],[0,3,1,2]])#필요한 행에서 0,3,1,2 번쨰 열의 값을 가져온다 첫 list는 안의 전체list 배열 두번째 list는 그 안의 배열\n",
    "\n",
    "print(arr[np.ix_([1,5,7,2],[0,3,1,2])]) #np_ix 배열 순서를 바꿔준다"
   ]
  },
  {
   "cell_type": "code",
   "execution_count": 175,
   "metadata": {},
   "outputs": [
    {
     "data": {
      "text/plain": [
       "array([[[ 0,  1,  2,  3,  4,  5,  6,  7,  8,  9, 10, 11, 12, 13, 14, 15,\n",
       "         16, 17, 18, 19, 20, 21, 22, 23, 24],\n",
       "        [25, 26, 27, 28, 29, 30, 31, 32, 33, 34, 35, 36, 37, 38, 39, 40,\n",
       "         41, 42, 43, 44, 45, 46, 47, 48, 49]],\n",
       "\n",
       "       [[50, 51, 52, 53, 54, 55, 56, 57, 58, 59, 60, 61, 62, 63, 64, 65,\n",
       "         66, 67, 68, 69, 70, 71, 72, 73, 74],\n",
       "        [75, 76, 77, 78, 79, 80, 81, 82, 83, 84, 85, 86, 87, 88, 89, 90,\n",
       "         91, 92, 93, 94, 95, 96, 97, 98, 99]]])"
      ]
     },
     "execution_count": 175,
     "metadata": {},
     "output_type": "execute_result"
    }
   ],
   "source": [
    "#4.1.7 배열 전치와 축 바꾸기\n",
    "\n",
    "arr=np.arange(15).reshape((3,5))\n",
    "arr.T\n",
    "\n",
    "arr=np.arange(100).reshape((2,2,25))\n"
   ]
  },
  {
   "cell_type": "markdown",
   "metadata": {},
   "source": [
    "### 4.2 유니버설 함수\n"
   ]
  },
  {
   "cell_type": "code",
   "execution_count": 83,
   "metadata": {},
   "outputs": [
    {
     "data": {
      "text/plain": [
       "array([1.00000000e+00, 2.71828183e+00, 7.38905610e+00, 2.00855369e+01,\n",
       "       5.45981500e+01, 1.48413159e+02, 4.03428793e+02, 1.09663316e+03,\n",
       "       2.98095799e+03, 8.10308393e+03])"
      ]
     },
     "execution_count": 83,
     "metadata": {},
     "output_type": "execute_result"
    }
   ],
   "source": [
    "\n",
    "arr= np.arange(10)\n",
    "\n",
    "np.sqrt(arr) #ndarray 안에 있는 데이터 원소별로 연산을 수행하는 함수\n",
    "\n",
    "np.exp(arr) #sqrt,exp 단항 유니버설 함수 #add maximum 2개 인자를 취해 단일 배열을 반환하는 함수 이항 유니버설 함수\n"
   ]
  },
  {
   "cell_type": "code",
   "execution_count": 183,
   "metadata": {},
   "outputs": [
    {
     "name": "stdout",
     "output_type": "stream",
     "text": [
      "[ 1.13225996 -0.87273474  0.42250893  0.07695119 -0.30700475 -0.0955072\n",
      "  0.38129783  2.15151947]\n"
     ]
    },
    {
     "data": {
      "text/plain": [
       "(array([-0.98932208,  0.6465214 ,  0.68307213,  0.59323955,  0.59646623,\n",
       "        -0.06834468, -0.71732556]), array([-1.,  2.,  3.,  5.,  4., -8., -0.]))"
      ]
     },
     "execution_count": 183,
     "metadata": {},
     "output_type": "execute_result"
    }
   ],
   "source": [
    "x=np.random.randn(8)\n",
    "\n",
    "y=np.random.randn(8)\n",
    "\n",
    "print(np.maximum(x,y))\n",
    "\n",
    "arr=np.random.randn(7)*5\n",
    "\n",
    "np.modf(arr)\n"
   ]
  },
  {
   "cell_type": "markdown",
   "metadata": {},
   "source": [
    "### 4.3 배열을 사용한 데이터 처리\n"
   ]
  },
  {
   "cell_type": "code",
   "execution_count": 201,
   "metadata": {},
   "outputs": [
    {
     "data": {
      "text/plain": [
       "<matplotlib.colorbar.Colorbar at 0xdec6e12f08>"
      ]
     },
     "execution_count": 201,
     "metadata": {},
     "output_type": "execute_result"
    },
    {
     "data": {
      "image/png": "[encoded data removed]",
      "text/plain": [
       "<Figure size 432x288 with 2 Axes>"
      ]
     },
     "metadata": {
      "needs_background": "light"
     },
     "output_type": "display_data"
    }
   ],
   "source": [
    " #4.3 배열을 사용한 데이터 처리\n",
    "\n",
    "points = np.arange(-5,5,0.01)\n",
    "\n",
    "xs, ys = np.meshgrid(points,points)\n",
    "\n",
    "import matplotlib.pyplot as plt\n",
    "\n",
    "z=np.sqrt(xs**2 + ys**2)\n",
    "\n",
    "plt.imshow(z,cmap=plt.cm.gray);plt.colorbar()"
   ]
  },
  {
   "cell_type": "code",
   "execution_count": 20,
   "metadata": {},
   "outputs": [
    {
     "name": "stdout",
     "output_type": "stream",
     "text": [
      "[1.1, 2.2, 1.3, 1.4, 2.5]\n",
      "[1.1 2.2 1.3 1.4 2.5]\n"
     ]
    },
    {
     "data": {
      "text/plain": [
       "array([[0, 0, 0, 0],\n",
       "       [0, 0, 0, 0],\n",
       "       [0, 0, 0, 0],\n",
       "       [0, 0, 0, 0],\n",
       "       [0, 0, 0, 0],\n",
       "       [0, 0, 0, 0],\n",
       "       [0, 0, 0, 0],\n",
       "       [0, 0, 0, 0],\n",
       "       [0, 0, 0, 0],\n",
       "       [0, 0, 0, 0]])"
      ]
     },
     "execution_count": 20,
     "metadata": {},
     "output_type": "execute_result"
    }
   ],
   "source": [
    "#4.3.1 배열연산으로 조건절 표현하기\n",
    "\n",
    "\n",
    "xarr=np.array([1.1,1.2,1.3,1.4,1.5])\n",
    "\n",
    "yarr=np.array([2.1,2.2,2.3,2.4,2.5])\n",
    "\n",
    "cond=np.array([True,False,True,True,False])\n",
    "\n",
    "result=[(x if c else y)\n",
    "       for x,y,c in zip(xarr,yarr,cond)]\n",
    "\n",
    "print(result)\n",
    "\n",
    "print(np.where(cond,xarr,yarr)) #만약 cond가 True면 x값을 아니면 y값을\n",
    "\n",
    "arr=np.random.rand(10,4)\n",
    "\n",
    "np.where(arr>0,0,-2)\n",
    "\n"
   ]
  },
  {
   "cell_type": "code",
   "execution_count": 25,
   "metadata": {},
   "outputs": [
    {
     "data": {
      "text/plain": [
       "'result=[]\\nfor i in range(n):\\n    if cond1[i] and cond2[i]:\\n        result.append(0)\\n    elif cond1[i]:\\n        result.append(1)\\n    elif cond2[i]:\\n        result.append(2)\\n    else:\\n        result.append(3)'"
      ]
     },
     "execution_count": 25,
     "metadata": {},
     "output_type": "execute_result"
    }
   ],
   "source": [
    "'''result=[]\n",
    "for i in range(n):\n",
    "    if cond1[i] and cond2[i]:\n",
    "        result.append(0)\n",
    "    elif cond1[i]:\n",
    "        result.append(1)\n",
    "    elif cond2[i]:\n",
    "        result.append(2)\n",
    "    else:\n",
    "        result.append(3)'''"
   ]
  },
  {
   "cell_type": "code",
   "execution_count": 24,
   "metadata": {},
   "outputs": [],
   "source": [
    "#np.where(cond1 & cond2,0,np.where(cond1,1,np.where(cond2,2,3)))"
   ]
  },
  {
   "cell_type": "code",
   "execution_count": 35,
   "metadata": {},
   "outputs": [
    {
     "data": {
      "text/plain": [
       "array([[0.        , 1.3897202 , 0.7519332 , 1.50289894, 0.76809717],\n",
       "       [0.        , 0.        , 0.51298326, 0.83957184, 0.77453012],\n",
       "       [0.93170603, 0.4242585 , 0.        , 0.        , 0.05073574],\n",
       "       [0.        , 1.88653702, 0.        , 0.87126925, 1.11861556],\n",
       "       [0.        , 0.08243766, 0.73516999, 0.29848598, 1.45069058]])"
      ]
     },
     "execution_count": 35,
     "metadata": {},
     "output_type": "execute_result"
    }
   ],
   "source": [
    "arr=np.random.randn(5,5)\n",
    "arr2=np.random.randn(5,5)\n",
    "np.where(arr>0.3,arr,np.where(arr2>0,arr2,0))"
   ]
  },
  {
   "cell_type": "code",
   "execution_count": 59,
   "metadata": {},
   "outputs": [
    {
     "name": "stdout",
     "output_type": "stream",
     "text": [
      "[0.36883442 0.59264659 0.83506894 0.62000236 0.497592  ]\n",
      "[3.86895947 3.19656777 2.64412089 1.94692908]\n"
     ]
    },
    {
     "data": {
      "text/plain": [
       "array([[  0,   0,   0],\n",
       "       [  3,  12,  60],\n",
       "       [  6,  42, 336]], dtype=int32)"
      ]
     },
     "execution_count": 59,
     "metadata": {},
     "output_type": "execute_result"
    }
   ],
   "source": [
    "#4.3.2 수학 메서드와 통계 메서드\n",
    "\n",
    "arr=np.random.rand(5,4)\n",
    "\n",
    "arr.mean()\n",
    "np.sum(arr)\n",
    "\n",
    "print(arr.mean(axis=1)) #axis 인자를 받으면 한 차수 낮은 배열을 반환한다\n",
    "\n",
    "print(arr.sum(0))\n",
    "\n",
    "arr=np.array([[0,1,2],[3,4,5],[6,7,8]])\n",
    "\n",
    "arr.cumsum(0) #중간 계산값을 갖고 잇는 배열을 반환\n",
    "arr.cumprod(1)"
   ]
  },
  {
   "cell_type": "code",
   "execution_count": 67,
   "metadata": {},
   "outputs": [
    {
     "data": {
      "text/plain": [
       "False"
      ]
     },
     "execution_count": 67,
     "metadata": {},
     "output_type": "execute_result"
    }
   ],
   "source": [
    "arr=np.random.randn(100)\n",
    "(arr>0).sum()\n",
    "\n",
    "bools= np.array([False,False,True,True])\n",
    "bools.any() #하나의 True 값이 있는지 검사\n",
    "bools.all() #모두 True 값인지 검사"
   ]
  },
  {
   "cell_type": "code",
   "execution_count": 76,
   "metadata": {},
   "outputs": [
    {
     "data": {
      "text/plain": [
       "-1.572959645217254"
      ]
     },
     "execution_count": 76,
     "metadata": {},
     "output_type": "execute_result"
    }
   ],
   "source": [
    "#4.3.4 정렬\n",
    "\n",
    "arr=np.random.randn(10)\n",
    "arr.sort() #순서대로 정렬\n",
    "arr\n",
    "\n",
    "large_arr= np.random.randn(1000)\n",
    "large_arr.sort()\n",
    "large_arr[int(0.05*len(large_arr))]"
   ]
  },
  {
   "cell_type": "code",
   "execution_count": 80,
   "metadata": {},
   "outputs": [
    {
     "name": "stdout",
     "output_type": "stream",
     "text": [
      "['bob' 'joe' 'will']\n",
      "[1 2 3 4]\n"
     ]
    },
    {
     "data": {
      "text/plain": [
       "array([ True, False, False,  True,  True, False,  True])"
      ]
     },
     "execution_count": 80,
     "metadata": {},
     "output_type": "execute_result"
    }
   ],
   "source": [
    "#4.3.5 집합함수\n",
    "\n",
    "names = np.array(['bob','joe','will','bob','will','joe','joe'])\n",
    "\n",
    "print(np.unique(names))\n",
    "\n",
    "ints=np.array([3,3,3,2,2,1,1,4,4])\n",
    "print(np.unique(ints))\n",
    "\n",
    "sorted(set(names)) # 순수 파이썬만 사용\n",
    "\n",
    "vlues=np.array([6,0,0,3,2,5,6])\n",
    "\n",
    "np.in1d(vlues,[2,3,6]) #첫번째 배열의 원소가 두번째 배열의 원소를 포함하는지 불리언 배열을 해줌\n",
    "\n"
   ]
  },
  {
   "cell_type": "markdown",
   "metadata": {},
   "source": [
    "### 4.4 배열의 파일 입.출력"
   ]
  },
  {
   "cell_type": "code",
   "execution_count": 82,
   "metadata": {},
   "outputs": [
    {
     "data": {
      "text/plain": [
       "array([0, 1, 2, 3, 4, 5, 6, 7, 8, 9])"
      ]
     },
     "execution_count": 82,
     "metadata": {},
     "output_type": "execute_result"
    }
   ],
   "source": [
    "#4.4.1 배열을 바이너리 형식으로 디스크에 저장하기\n",
    "\n",
    "arr=np.arange(10)\n",
    "\n",
    "np.save('some_array',arr)\n",
    "\n",
    "np.load('some_array.npy')\n"
   ]
  },
  {
   "cell_type": "code",
   "execution_count": 87,
   "metadata": {},
   "outputs": [
    {
     "data": {
      "text/plain": [
       "array([0, 1, 2, 3, 4, 5, 6, 7, 8, 9])"
      ]
     },
     "execution_count": 87,
     "metadata": {},
     "output_type": "execute_result"
    }
   ],
   "source": [
    "np.savez('array_archive.npz',a=arr,b=arr)\n",
    "arch=np.load('array_archive.npz')\n",
    "arch['b']"
   ]
  },
  {
   "cell_type": "code",
   "execution_count": 89,
   "metadata": {},
   "outputs": [
    {
     "name": "stderr",
     "output_type": "stream",
     "text": [
      "'cat'은(는) 내부 또는 외부 명령, 실행할 수 있는 프로그램, 또는\n",
      "배치 파일이 아닙니다.\n"
     ]
    }
   ],
   "source": [
    "#4.4.2 텍스트 파일 불러오기와 저장하기\n",
    "\n"
   ]
  },
  {
   "cell_type": "markdown",
   "metadata": {},
   "source": [
    "### 선형 대수"
   ]
  },
  {
   "cell_type": "code",
   "execution_count": 107,
   "metadata": {},
   "outputs": [
    {
     "data": {
      "text/plain": [
       "array([[-7.42165501,  3.90275802, -2.71318335,  1.10731407, -0.9629148 ],\n",
       "       [ 0.        , -8.83737501,  2.2193038 ,  1.44263035,  7.68089223],\n",
       "       [ 0.        ,  0.        , -3.13947267, -0.3156293 , -1.87340936],\n",
       "       [ 0.        ,  0.        ,  0.        , -1.4557653 , -4.71040203],\n",
       "       [ 0.        ,  0.        ,  0.        ,  0.        ,  0.15529554]])"
      ]
     },
     "execution_count": 107,
     "metadata": {},
     "output_type": "execute_result"
    }
   ],
   "source": [
    "x=np.array([[1.,2.,3.,],[4.,5.,6.]])\n",
    "\n",
    "y=np.array([[6.,23.],[-1,7],[8,9]])\n",
    "\n",
    "x.dot(y) #각각의 원소의 곱을 계산\n",
    "\n",
    "np.dot(x,np.ones(3))\n",
    "\n",
    "from numpy.linalg import inv,qr\n",
    "\n",
    "x=np.random.randn(5,5)\n",
    "\n",
    "mat=x.T.dot(x)\n",
    "\n",
    "inv(mat)\n",
    "mat.dot(inv(mat))\n",
    "q,r=qr(mat)\n",
    "r"
   ]
  },
  {
   "cell_type": "markdown",
   "metadata": {},
   "source": [
    "### 4.6 난수 생성"
   ]
  },
  {
   "cell_type": "code",
   "execution_count": 112,
   "metadata": {},
   "outputs": [
    {
     "name": "stdout",
     "output_type": "stream",
     "text": [
      "6.58 ms ± 86.2 µs per loop (mean ± std. dev. of 7 runs, 100 loops each)\n"
     ]
    }
   ],
   "source": [
    "sample = np.random.rand(5,5)\n",
    "sample\n",
    "\n",
    "from random import normalvariate\n",
    "\n",
    "N=100000\n",
    "\n",
    "%timeit np.random.normal(size=N)"
   ]
  },
  {
   "cell_type": "markdown",
   "metadata": {},
   "source": [
    "### 4.7 계단 오르내리기 예제"
   ]
  },
  {
   "cell_type": "code",
   "execution_count": 114,
   "metadata": {},
   "outputs": [
    {
     "data": {
      "text/plain": [
       "'import random\\nposition=0\\nwalk=[position]\\nsteps =1000\\nfor i in xrange(steps):\\n    step = 1 if random.randint(0,1) else -1\\n    postion +=step\\n    wakl.append(position)'"
      ]
     },
     "execution_count": 114,
     "metadata": {},
     "output_type": "execute_result"
    }
   ],
   "source": [
    "'''import random\n",
    "position=0\n",
    "walk=[position]\n",
    "steps =1000\n",
    "for i in xrange(steps):\n",
    "    step = 1 if random.randint(0,1) else -1\n",
    "    postion +=step\n",
    "    wakl.append(position)'''"
   ]
  },
  {
   "cell_type": "code",
   "execution_count": 131,
   "metadata": {},
   "outputs": [
    {
     "data": {
      "text/plain": [
       "24"
      ]
     },
     "execution_count": 131,
     "metadata": {},
     "output_type": "execute_result"
    }
   ],
   "source": [
    "nsteps= 1000\n",
    "draws = np.random.randint(0,2,size=nsteps)\n",
    "\n",
    "steps=np.where(draws>0,1,-1)\n",
    "walk= steps.cumsum() #cumsum 누적합\n",
    "\n",
    "walk.min()\n",
    "walk.max()\n",
    "\n",
    "np.abs(walk)>10 #abs 절대값 함수\n",
    "\n",
    "(np.abs(walk)>10).argmax() #argmax 최대값으로 나오는 index값"
   ]
  },
  {
   "cell_type": "code",
   "execution_count": 153,
   "metadata": {},
   "outputs": [
    {
     "name": "stdout",
     "output_type": "stream",
     "text": [
      "(5000, 1000)\n"
     ]
    },
    {
     "data": {
      "text/plain": [
       "3383"
      ]
     },
     "execution_count": 153,
     "metadata": {},
     "output_type": "execute_result"
    }
   ],
   "source": [
    "#4.7.1 한 번에 계단 오르내리기 시뮬레이션하기\n",
    "\n",
    "nwalks=5000\n",
    "\n",
    "nsteps=1000\n",
    "\n",
    "draws = np.random.randint(0,2,size=(nwalks,nsteps))\n",
    "\n",
    "steps=np.where(draws>0,1,-1)\n",
    "\n",
    "walks= steps.cumsum(1)\n",
    "print(walks.shape)\n",
    "walks.max()\n",
    "walks.min()\n",
    "\n",
    "hist30=(np.abs(walks)>=30).any(1)\n",
    "\n",
    "hist30.sum()"
   ]
  },
  {
   "cell_type": "code",
   "execution_count": null,
   "metadata": {},
   "outputs": [],
   "source": []
  },
  {
   "cell_type": "code",
   "execution_count": null,
   "metadata": {},
   "outputs": [],
   "source": []
  }
 ],
 "metadata": {
  "kernelspec": {
   "display_name": "Python 3",
   "language": "python",
   "name": "python3"
  },
  "language_info": {
   "codemirror_mode": {
    "name": "ipython",
    "version": 3
   },
   "file_extension": ".py",
   "mimetype": "text/x-python",
   "name": "python",
   "nbconvert_exporter": "python",
   "pygments_lexer": "ipython3",
   "version": "3.7.4"
  }
 },
 "nbformat": 4,
 "nbformat_minor": 2
}
